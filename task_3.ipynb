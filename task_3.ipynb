{
 "cells": [
  {
   "cell_type": "code",
   "execution_count": 17,
   "metadata": {},
   "outputs": [],
   "source": [
    "import pandas as pd\n",
    "import numpy as np\n",
    "import requests\n",
    "import pandahouse as ph\n",
    "import seaborn as sns\n",
    "from urllib.parse import urlencode\n",
    "import matplotlib.pyplot as plt"
   ]
  },
  {
   "cell_type": "markdown",
   "metadata": {},
   "source": [
    "Создадим основной и дополнительный датасеты для проверки работы функций."
   ]
  },
  {
   "cell_type": "markdown",
   "metadata": {},
   "source": [
    "Начнём с создания основного датасета"
   ]
  },
  {
   "cell_type": "code",
   "execution_count": 18,
   "metadata": {},
   "outputs": [],
   "source": [
    "base_url = 'https://cloud-api.yandex.net/v1/disk/public/resources/download?' \n",
    "public_key1 = 'https://disk.yandex.ru/d/UhyYx41rTt3clQ' \n",
    " \n",
    "final_url = base_url + urlencode(dict(public_key=public_key1)) \n",
    "response = requests.get(final_url) \n",
    "download_url = response.json()['href'] \n",
    "\n",
    "download_response = requests.get(download_url) \n",
    "groups = pd.read_csv(download_url, sep=';')"
   ]
  },
  {
   "cell_type": "code",
   "execution_count": 19,
   "metadata": {},
   "outputs": [],
   "source": [
    "base_url = 'https://cloud-api.yandex.net/v1/disk/public/resources/download?' \n",
    "public_key1 = 'https://disk.yandex.ru/d/Tbs44Bm6H_FwFQ' \n",
    " \n",
    "final_url = base_url + urlencode(dict(public_key=public_key1)) \n",
    "response = requests.get(final_url) \n",
    "download_url = response.json()['href'] \n",
    "\n",
    "download_response = requests.get(download_url) \n",
    "customers = pd.read_csv(download_url, sep=',')"
   ]
  },
  {
   "cell_type": "code",
   "execution_count": 20,
   "metadata": {},
   "outputs": [],
   "source": [
    "base_url = 'https://cloud-api.yandex.net/v1/disk/public/resources/download?' \n",
    "public_key1 = 'https://disk.yandex.ru/d/pH1q-VqcxXjsVA' \n",
    " \n",
    "final_url = base_url + urlencode(dict(public_key=public_key1)) \n",
    "response = requests.get(final_url) \n",
    "download_url = response.json()['href'] \n",
    "\n",
    "download_response = requests.get(download_url) \n",
    "checks = pd.read_csv(download_url, sep=';')"
   ]
  },
  {
   "cell_type": "code",
   "execution_count": 21,
   "metadata": {},
   "outputs": [],
   "source": [
    "groups.rename(columns={'id': 'student_id'}, inplace=True)\n",
    "customers_info = groups.merge(checks, on='student_id', how='left')\n",
    "customers_info.fillna(0, inplace=True)\n",
    "customers_info.rev = customers_info.rev.astype(int)\n",
    "customers_list = customers.student_id.to_list()\n",
    "customers_info['purchase'] = customers_info.rev.apply(lambda x: True if x != 0 else False)\n",
    "customers_info['is_active'] = customers_info.student_id.apply(lambda x: True if x in customers_list else False)\n",
    "customers_info.drop(customers_info.query('is_active == False & purchase == True').index, inplace=True)"
   ]
  },
  {
   "cell_type": "code",
   "execution_count": 22,
   "metadata": {},
   "outputs": [
    {
     "data": {
      "text/html": [
       "<div>\n",
       "<style scoped>\n",
       "    .dataframe tbody tr th:only-of-type {\n",
       "        vertical-align: middle;\n",
       "    }\n",
       "\n",
       "    .dataframe tbody tr th {\n",
       "        vertical-align: top;\n",
       "    }\n",
       "\n",
       "    .dataframe thead th {\n",
       "        text-align: right;\n",
       "    }\n",
       "</style>\n",
       "<table border=\"1\" class=\"dataframe\">\n",
       "  <thead>\n",
       "    <tr style=\"text-align: right;\">\n",
       "      <th></th>\n",
       "      <th>student_id</th>\n",
       "      <th>grp</th>\n",
       "      <th>rev</th>\n",
       "      <th>purchase</th>\n",
       "      <th>is_active</th>\n",
       "    </tr>\n",
       "  </thead>\n",
       "  <tbody>\n",
       "    <tr>\n",
       "      <th>0</th>\n",
       "      <td>1489</td>\n",
       "      <td>B</td>\n",
       "      <td>0</td>\n",
       "      <td>False</td>\n",
       "      <td>False</td>\n",
       "    </tr>\n",
       "    <tr>\n",
       "      <th>1</th>\n",
       "      <td>1627</td>\n",
       "      <td>A</td>\n",
       "      <td>990</td>\n",
       "      <td>True</td>\n",
       "      <td>True</td>\n",
       "    </tr>\n",
       "    <tr>\n",
       "      <th>2</th>\n",
       "      <td>1768</td>\n",
       "      <td>B</td>\n",
       "      <td>0</td>\n",
       "      <td>False</td>\n",
       "      <td>False</td>\n",
       "    </tr>\n",
       "    <tr>\n",
       "      <th>3</th>\n",
       "      <td>1783</td>\n",
       "      <td>B</td>\n",
       "      <td>0</td>\n",
       "      <td>False</td>\n",
       "      <td>False</td>\n",
       "    </tr>\n",
       "    <tr>\n",
       "      <th>4</th>\n",
       "      <td>1794</td>\n",
       "      <td>A</td>\n",
       "      <td>0</td>\n",
       "      <td>False</td>\n",
       "      <td>False</td>\n",
       "    </tr>\n",
       "  </tbody>\n",
       "</table>\n",
       "</div>"
      ],
      "text/plain": [
       "   student_id grp  rev  purchase  is_active\n",
       "0        1489   B    0     False      False\n",
       "1        1627   A  990      True       True\n",
       "2        1768   B    0     False      False\n",
       "3        1783   B    0     False      False\n",
       "4        1794   A    0     False      False"
      ]
     },
     "execution_count": 22,
     "metadata": {},
     "output_type": "execute_result"
    }
   ],
   "source": [
    "customers_info.head(5)"
   ]
  },
  {
   "cell_type": "markdown",
   "metadata": {},
   "source": [
    "Теперь загрузим дополнительный датасет (в дальнейшем можно заменить на путь или ссылку)"
   ]
  },
  {
   "cell_type": "code",
   "execution_count": 23,
   "metadata": {},
   "outputs": [],
   "source": [
    "base_url = 'https://cloud-api.yandex.net/v1/disk/public/resources/download?' \n",
    "public_key1 = 'https://disk.yandex.ru/d/5Kxrz02m3IBUwQ' \n",
    " \n",
    "final_url = base_url + urlencode(dict(public_key=public_key1)) \n",
    "response = requests.get(final_url) \n",
    "download_url = response.json()['href'] \n",
    "\n",
    "download_response = requests.get(download_url) \n",
    "groups_add = pd.read_csv(download_url, sep=',')"
   ]
  },
  {
   "cell_type": "markdown",
   "metadata": {},
   "source": [
    "Создание функции для перерасчёта метрик после добавления новых данных"
   ]
  },
  {
   "cell_type": "code",
   "execution_count": 29,
   "metadata": {},
   "outputs": [],
   "source": [
    "def add_data(main_database, groups_add):\n",
    "    try:\n",
    "        newdata_add = groups_add.rename(columns={'id': 'student_id'})\n",
    "        newdata_add = newdata_add.merge(checks, on='student_id', how='left')\n",
    "        newdata_add.fillna(0, inplace=True)\n",
    "        newdata_add.rev = newdata_add.rev.astype(int)\n",
    "        newdata_add['purchase'] = newdata_add.rev.apply(lambda x: True if x != 0 else False)\n",
    "        newdata_add['is_active'] = newdata_add.student_id.apply(lambda x: True if x in customers_list else False)\n",
    "        global updated_database\n",
    "        updated_database = pd.concat([main_database, newdata_add], axis=0)\n",
    "        target_group = updated_database[(updated_database.grp == 'B') & (updated_database.is_active)]\n",
    "        control_group = updated_database[(updated_database.grp == 'A') & (updated_database.is_active)]\n",
    "        \n",
    "        CR_control = control_group[control_group.purchase].student_id.nunique()/control_group.student_id.nunique()\n",
    "        CR_target = target_group[target_group.purchase].student_id.nunique()/target_group.student_id.nunique()\n",
    "\n",
    "        ARPPU_control = control_group.rev.sum()/control_group[control_group.purchase].student_id.nunique()\n",
    "        ARPPU_target = target_group.rev.sum()/target_group[target_group.purchase].student_id.nunique()\n",
    "\n",
    "        ARPU_control = round(CR_control * ARPPU_control, 2)\n",
    "        ARPU_target = round(CR_target * ARPPU_target, 2)\n",
    "        print(f'''\n",
    "Конверсия в покупку у контрольной группы составляет: {round(CR_control, 3)}\n",
    "Средняя выручка на покупающего пользователя из контрольной группы составляет: {round(ARPPU_control, 2)}\n",
    "Средняя выручка на пользователя из контрольной группы составляет: {ARPU_control}\n",
    "\n",
    "Конверсия в покупку у целевой группы составляет: {round(CR_target, 3)} (изменение на {abs((round(CR_target/CR_control - 1, 2)))*100}%)\n",
    "Средняя выручка на покупающего пользователя из целевой группы составляет: {round(ARPPU_target, 2)} (изменение на {round((ARPPU_target/ARPPU_control-1)*100, 2)}%)\n",
    "Средняя выручка на пользователя из целевой группы составляет: {ARPU_target} (изменение на {round((ARPU_target/ARPU_control-1)*100, 2)}%)''')\n",
    "    except:\n",
    "        print('''Произошла ошибка при соединении таблиц.\n",
    "Проверьте предоставляемые данные и попробуйте снова.''')\n"
   ]
  },
  {
   "cell_type": "markdown",
   "metadata": {},
   "source": [
    "Проверка работоспособности функции по добавлению данных и обновлению метрик."
   ]
  },
  {
   "cell_type": "code",
   "execution_count": 30,
   "metadata": {},
   "outputs": [
    {
     "name": "stdout",
     "output_type": "stream",
     "text": [
      "\n",
      "Конверсия в покупку у контрольной группы составляет: 0.051\n",
      "Средняя выручка на покупающего пользователя из контрольной группы составляет: 933.59\n",
      "Средняя выручка на пользователя из контрольной группы составляет: 47.35\n",
      "\n",
      "Конверсия в покупку у целевой группы составляет: 0.046 (изменение на 9.0%)\n",
      "Средняя выручка на покупающего пользователя из целевой группы составляет: 1257.88 (изменение на 34.74%)\n",
      "Средняя выручка на пользователя из целевой группы составляет: 58.06 (изменение на 22.62%)\n"
     ]
    }
   ],
   "source": [
    "add_data(customers_info, groups_add)"
   ]
  },
  {
   "cell_type": "markdown",
   "metadata": {},
   "source": [
    "Теперь создадим функцию по черчению графиков метрик из переданного датасета"
   ]
  },
  {
   "cell_type": "code",
   "execution_count": 38,
   "metadata": {},
   "outputs": [],
   "source": [
    "def draw_graphs(database):\n",
    "    target_group = database[(database.grp == 'B') & (database.is_active)]\n",
    "    control_group = database[(database.grp == 'A') & (database.is_active)]\n",
    "    \n",
    "    CR_control = control_group[control_group.purchase].student_id.nunique()/control_group.student_id.nunique()\n",
    "    CR_target = target_group[target_group.purchase].student_id.nunique()/target_group.student_id.nunique()\n",
    "    CR_diff = pd.DataFrame({'grp': ['A', 'B'], 'CR_of_groups': [CR_control, CR_target]})\n",
    "\n",
    "    ARPPU_control = control_group.rev.sum()/control_group[control_group.purchase].student_id.nunique()\n",
    "    ARPPU_target = target_group.rev.sum()/target_group[target_group.purchase].student_id.nunique()\n",
    "    ARPPU_diff = pd.DataFrame({'grp': ['A', 'B'], 'ARPPU_of_groups': [ARPPU_control, ARPPU_target]})\n",
    "\n",
    "    ARPU_control = round(CR_control * ARPPU_control, 2)\n",
    "    ARPU_target = round(CR_target * ARPPU_target, 2)\n",
    "    ARPU_diff = pd.DataFrame({'grp': ['A', 'B'], 'ARPU_diff_of_groups': [ARPU_control, ARPU_target]})\n",
    "    \n",
    "    sns.set()\n",
    "    \n",
    "    fig, axes = plt.subplots(1, 3, sharey=True, figsize=(15,2))\n",
    "    fig.suptitle('Метрики датасета')\n",
    "    \n",
    "    sns.barplot(ax=axes[0], x=CR_diff.CR_of_groups, y=CR_diff.grp)\n",
    "    \n",
    "    sns.barplot(ax=axes[1], x=ARPPU_diff.ARPPU_of_groups, y=ARPPU_diff.grp)\n",
    "    \n",
    "    sns.barplot(ax=axes[2], x=ARPU_diff.ARPU_diff_of_groups, y=ARPU_diff.grp)"
   ]
  },
  {
   "cell_type": "markdown",
   "metadata": {},
   "source": [
    "Проверка работы функции по рисованию графиков"
   ]
  },
  {
   "cell_type": "code",
   "execution_count": 39,
   "metadata": {},
   "outputs": [
    {
     "data": {
      "image/png": "[encoded data removed]",
      "text/plain": [
       "<Figure size 1080x144 with 3 Axes>"
      ]
     },
     "metadata": {},
     "output_type": "display_data"
    }
   ],
   "source": [
    "draw_graphs(updated_database)"
   ]
  },
  {
   "cell_type": "code",
   "execution_count": null,
   "metadata": {},
   "outputs": [],
   "source": []
  }
 ],
 "metadata": {
  "kernelspec": {
   "display_name": "Python 3",
   "language": "python",
   "name": "python3"
  },
  "language_info": {
   "codemirror_mode": {
    "name": "ipython",
    "version": 3
   },
   "file_extension": ".py",
   "mimetype": "text/x-python",
   "name": "python",
   "nbconvert_exporter": "python",
   "pygments_lexer": "ipython3",
   "version": "3.7.3"
  }
 },
 "nbformat": 4,
 "nbformat_minor": 4
}
