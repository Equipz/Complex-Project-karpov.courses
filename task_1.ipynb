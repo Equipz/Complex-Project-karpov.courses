{
 "cells": [
  {
   "cell_type": "code",
   "execution_count": 1,
   "metadata": {},
   "outputs": [],
   "source": [
    "import pandas as pd\n",
    "import requests\n",
    "import pandahouse as ph\n",
    "from urllib.parse import urlencode\n",
    "import seaborn as sns\n",
    "import matplotlib.pyplot as plt\n",
    "from operator import attrgetter\n",
    "import datetime as dt\n",
    "import plotly.express as px\n",
    "import numpy as np\n",
    "from scipy.stats import chi2_contingency, chi2, shapiro, ttest_ind, normaltest, ks_2samp, levene\n",
    "import pingouin as pg\n",
    "\n",
    "%matplotlib inline"
   ]
  },
  {
   "cell_type": "markdown",
   "metadata": {},
   "source": [
    "Задание 1.2"
   ]
  },
  {
   "cell_type": "markdown",
   "metadata": {},
   "source": [
    "                                         Подготовка данных"
   ]
  },
  {
   "cell_type": "markdown",
   "metadata": {},
   "source": [
    "Загрузка данных по распределению пользователей по группам"
   ]
  },
  {
   "cell_type": "code",
   "execution_count": 2,
   "metadata": {},
   "outputs": [
    {
     "name": "stderr",
     "output_type": "stream",
     "text": [
      "/opt/tljh/user/lib/python3.7/site-packages/outdated/utils.py:18: OutdatedCacheFailedWarning: Failed to use cache while checking for outdated package.\n",
      "Set the environment variable OUTDATED_RAISE_EXCEPTION=1 for a full traceback.\n",
      "Set the environment variable OUTDATED_IGNORE=1 to disable these warnings.\n",
      "  **kwargs\n",
      "/opt/tljh/user/lib/python3.7/site-packages/outdated/utils.py:18: OutdatedPackageWarning: The package pingouin is out of date. Your version is 0.4.0, the latest is 0.5.4.\n",
      "Set the environment variable OUTDATED_IGNORE=1 to disable these warnings.\n",
      "  **kwargs\n",
      "/opt/tljh/user/lib/python3.7/site-packages/outdated/utils.py:18: OutdatedPackageWarning: The package outdated is out of date. Your version is 0.2.1, the latest is 0.2.2.\n",
      "Set the environment variable OUTDATED_IGNORE=1 to disable these warnings.\n",
      "  **kwargs\n"
     ]
    }
   ],
   "source": [
    "base_url = 'https://cloud-api.yandex.net/v1/disk/public/resources/download?' \n",
    "public_key1 = 'https://disk.yandex.ru/d/UhyYx41rTt3clQ' \n",
    " \n",
    "final_url = base_url + urlencode(dict(public_key=public_key1)) \n",
    "response = requests.get(final_url) \n",
    "download_url = response.json()['href'] \n",
    "\n",
    "download_response = requests.get(download_url) \n",
    "groups = pd.read_csv(download_url, sep=';')"
   ]
  },
  {
   "cell_type": "markdown",
   "metadata": {},
   "source": [
    "Загрузка дополнительных данных по распределению пользователей по группам"
   ]
  },
  {
   "cell_type": "code",
   "execution_count": 3,
   "metadata": {},
   "outputs": [],
   "source": [
    "base_url = 'https://cloud-api.yandex.net/v1/disk/public/resources/download?' \n",
    "public_key1 = 'https://disk.yandex.ru/d/5Kxrz02m3IBUwQ' \n",
    " \n",
    "final_url = base_url + urlencode(dict(public_key=public_key1)) \n",
    "response = requests.get(final_url) \n",
    "download_url = response.json()['href'] \n",
    "\n",
    "download_response = requests.get(download_url) \n",
    "groups_add = pd.read_csv(download_url, sep=',')"
   ]
  },
  {
   "cell_type": "markdown",
   "metadata": {},
   "source": [
    "Загрузка информации о пользователях, которые использовали платформу в дни проведения эксперимента"
   ]
  },
  {
   "cell_type": "code",
   "execution_count": 4,
   "metadata": {},
   "outputs": [],
   "source": [
    "base_url = 'https://cloud-api.yandex.net/v1/disk/public/resources/download?' \n",
    "public_key1 = 'https://disk.yandex.ru/d/Tbs44Bm6H_FwFQ' \n",
    " \n",
    "final_url = base_url + urlencode(dict(public_key=public_key1)) \n",
    "response = requests.get(final_url) \n",
    "download_url = response.json()['href'] \n",
    "\n",
    "download_response = requests.get(download_url) \n",
    "customers = pd.read_csv(download_url, sep=',')"
   ]
  },
  {
   "cell_type": "markdown",
   "metadata": {},
   "source": [
    "Загрузка данных об оплатах в дни проведения эксперимента"
   ]
  },
  {
   "cell_type": "code",
   "execution_count": 5,
   "metadata": {},
   "outputs": [],
   "source": [
    "base_url = 'https://cloud-api.yandex.net/v1/disk/public/resources/download?' \n",
    "public_key1 = 'https://disk.yandex.ru/d/pH1q-VqcxXjsVA' \n",
    " \n",
    "final_url = base_url + urlencode(dict(public_key=public_key1)) \n",
    "response = requests.get(final_url) \n",
    "download_url = response.json()['href'] \n",
    "\n",
    "download_response = requests.get(download_url) \n",
    "checks = pd.read_csv(download_url, sep=';')"
   ]
  },
  {
   "cell_type": "markdown",
   "metadata": {},
   "source": [
    "Посмотрим информацию о кол-во пропущенных значений и типы данных в таблицах с распределение пользователей по группам"
   ]
  },
  {
   "cell_type": "code",
   "execution_count": 6,
   "metadata": {},
   "outputs": [
    {
     "data": {
      "text/html": [
       "<div>\n",
       "<style scoped>\n",
       "    .dataframe tbody tr th:only-of-type {\n",
       "        vertical-align: middle;\n",
       "    }\n",
       "\n",
       "    .dataframe tbody tr th {\n",
       "        vertical-align: top;\n",
       "    }\n",
       "\n",
       "    .dataframe thead th {\n",
       "        text-align: right;\n",
       "    }\n",
       "</style>\n",
       "<table border=\"1\" class=\"dataframe\">\n",
       "  <thead>\n",
       "    <tr style=\"text-align: right;\">\n",
       "      <th></th>\n",
       "      <th>id</th>\n",
       "      <th>grp</th>\n",
       "    </tr>\n",
       "  </thead>\n",
       "  <tbody>\n",
       "    <tr>\n",
       "      <th>0</th>\n",
       "      <td>1489</td>\n",
       "      <td>B</td>\n",
       "    </tr>\n",
       "    <tr>\n",
       "      <th>1</th>\n",
       "      <td>1627</td>\n",
       "      <td>A</td>\n",
       "    </tr>\n",
       "    <tr>\n",
       "      <th>2</th>\n",
       "      <td>1768</td>\n",
       "      <td>B</td>\n",
       "    </tr>\n",
       "    <tr>\n",
       "      <th>3</th>\n",
       "      <td>1783</td>\n",
       "      <td>B</td>\n",
       "    </tr>\n",
       "    <tr>\n",
       "      <th>4</th>\n",
       "      <td>1794</td>\n",
       "      <td>A</td>\n",
       "    </tr>\n",
       "  </tbody>\n",
       "</table>\n",
       "</div>"
      ],
      "text/plain": [
       "     id grp\n",
       "0  1489   B\n",
       "1  1627   A\n",
       "2  1768   B\n",
       "3  1783   B\n",
       "4  1794   A"
      ]
     },
     "execution_count": 6,
     "metadata": {},
     "output_type": "execute_result"
    }
   ],
   "source": [
    "groups.head(5)"
   ]
  },
  {
   "cell_type": "code",
   "execution_count": 7,
   "metadata": {},
   "outputs": [
    {
     "name": "stdout",
     "output_type": "stream",
     "text": [
      "<class 'pandas.core.frame.DataFrame'>\n",
      "RangeIndex: 74484 entries, 0 to 74483\n",
      "Data columns (total 2 columns):\n",
      " #   Column  Non-Null Count  Dtype \n",
      "---  ------  --------------  ----- \n",
      " 0   id      74484 non-null  int64 \n",
      " 1   grp     74484 non-null  object\n",
      "dtypes: int64(1), object(1)\n",
      "memory usage: 1.1+ MB\n"
     ]
    }
   ],
   "source": [
    "groups.info()"
   ]
  },
  {
   "cell_type": "code",
   "execution_count": 8,
   "metadata": {},
   "outputs": [
    {
     "data": {
      "text/html": [
       "<div>\n",
       "<style scoped>\n",
       "    .dataframe tbody tr th:only-of-type {\n",
       "        vertical-align: middle;\n",
       "    }\n",
       "\n",
       "    .dataframe tbody tr th {\n",
       "        vertical-align: top;\n",
       "    }\n",
       "\n",
       "    .dataframe thead th {\n",
       "        text-align: right;\n",
       "    }\n",
       "</style>\n",
       "<table border=\"1\" class=\"dataframe\">\n",
       "  <thead>\n",
       "    <tr style=\"text-align: right;\">\n",
       "      <th></th>\n",
       "      <th>id</th>\n",
       "      <th>grp</th>\n",
       "    </tr>\n",
       "  </thead>\n",
       "  <tbody>\n",
       "    <tr>\n",
       "      <th>0</th>\n",
       "      <td>5694584</td>\n",
       "      <td>B</td>\n",
       "    </tr>\n",
       "    <tr>\n",
       "      <th>1</th>\n",
       "      <td>5694830</td>\n",
       "      <td>B</td>\n",
       "    </tr>\n",
       "    <tr>\n",
       "      <th>2</th>\n",
       "      <td>5695057</td>\n",
       "      <td>B</td>\n",
       "    </tr>\n",
       "    <tr>\n",
       "      <th>3</th>\n",
       "      <td>5698872</td>\n",
       "      <td>B</td>\n",
       "    </tr>\n",
       "    <tr>\n",
       "      <th>4</th>\n",
       "      <td>5699067</td>\n",
       "      <td>B</td>\n",
       "    </tr>\n",
       "  </tbody>\n",
       "</table>\n",
       "</div>"
      ],
      "text/plain": [
       "        id grp\n",
       "0  5694584   B\n",
       "1  5694830   B\n",
       "2  5695057   B\n",
       "3  5698872   B\n",
       "4  5699067   B"
      ]
     },
     "execution_count": 8,
     "metadata": {},
     "output_type": "execute_result"
    }
   ],
   "source": [
    "groups_add.head()"
   ]
  },
  {
   "cell_type": "code",
   "execution_count": 9,
   "metadata": {},
   "outputs": [
    {
     "name": "stdout",
     "output_type": "stream",
     "text": [
      "<class 'pandas.core.frame.DataFrame'>\n",
      "RangeIndex: 92 entries, 0 to 91\n",
      "Data columns (total 2 columns):\n",
      " #   Column  Non-Null Count  Dtype \n",
      "---  ------  --------------  ----- \n",
      " 0   id      92 non-null     int64 \n",
      " 1   grp     92 non-null     object\n",
      "dtypes: int64(1), object(1)\n",
      "memory usage: 1.6+ KB\n"
     ]
    }
   ],
   "source": [
    "groups_add.info()"
   ]
  },
  {
   "cell_type": "markdown",
   "metadata": {},
   "source": [
    "Проверим есть ли дубликаты в обоих таблицах для нормализации данных"
   ]
  },
  {
   "cell_type": "code",
   "execution_count": 10,
   "metadata": {},
   "outputs": [
    {
     "name": "stdout",
     "output_type": "stream",
     "text": [
      "Нету дубликатов ID в новой таблице\n"
     ]
    }
   ],
   "source": [
    "if groups.max()[0] < groups_add.min()[0]:\n",
    "    print('Нету дубликатов ID в новой таблице')\n",
    "else:\n",
    "    print('Есть дубликаты ID в новой таблице')"
   ]
  },
  {
   "cell_type": "markdown",
   "metadata": {},
   "source": [
    "Объединяем два файла с группами"
   ]
  },
  {
   "cell_type": "code",
   "execution_count": 11,
   "metadata": {},
   "outputs": [],
   "source": [
    "overall_groups = pd.concat([groups, groups_add], axis=0)"
   ]
  },
  {
   "cell_type": "markdown",
   "metadata": {},
   "source": [
    "Теперь проверяем правильность соединения таблиц. Должно увеличится кол-во строк на величину соответствующую сумме уникальных ID"
   ]
  },
  {
   "cell_type": "code",
   "execution_count": 12,
   "metadata": {},
   "outputs": [
    {
     "data": {
      "text/plain": [
       "True"
      ]
     },
     "execution_count": 12,
     "metadata": {},
     "output_type": "execute_result"
    }
   ],
   "source": [
    "overall_groups.shape[0] == groups.id.nunique() + groups_add.id.nunique() "
   ]
  },
  {
   "cell_type": "markdown",
   "metadata": {},
   "source": [
    "Посмотрим на распределение студентов по эксперементальным группам в %"
   ]
  },
  {
   "cell_type": "code",
   "execution_count": 13,
   "metadata": {},
   "outputs": [
    {
     "name": "stdout",
     "output_type": "stream",
     "text": [
      "20% в ключевой группе от всех пользователей\n",
      "80% в тестовой группе от всех пользователей\n",
      "Всего пользователей в эксперименте - 74576\n"
     ]
    }
   ],
   "source": [
    "print(str(round(overall_groups.grp.value_counts().A/overall_groups.shape[0] * 100)) + '% в ключевой группе от всех пользователей')\n",
    "print(str(round(overall_groups.grp.value_counts().B/overall_groups.shape[0] * 100)) + '% в тестовой группе от всех пользователей')\n",
    "print('Всего пользователей в эксперименте - ' + str(overall_groups.shape[0]))"
   ]
  },
  {
   "cell_type": "markdown",
   "metadata": {},
   "source": [
    "Общее количество пользователей в эксперименте и их разбивка по ключевой и тестовой группе может говорить нам о высоком уровне ожидаемого эффекта, значительный масштаб нововведений в механику оплаты или высокой репрезентативности пользователей в выборке группы А"
   ]
  },
  {
   "cell_type": "markdown",
   "metadata": {},
   "source": [
    "Проверим тип данных и количество пропущенных значений в файле с активными клиентами и клиентами с покупками в дни эксперимента"
   ]
  },
  {
   "cell_type": "code",
   "execution_count": 14,
   "metadata": {},
   "outputs": [
    {
     "name": "stdout",
     "output_type": "stream",
     "text": [
      "<class 'pandas.core.frame.DataFrame'>\n",
      "RangeIndex: 8341 entries, 0 to 8340\n",
      "Data columns (total 1 columns):\n",
      " #   Column      Non-Null Count  Dtype\n",
      "---  ------      --------------  -----\n",
      " 0   student_id  8341 non-null   int64\n",
      "dtypes: int64(1)\n",
      "memory usage: 65.3 KB\n"
     ]
    }
   ],
   "source": [
    "customers.info()"
   ]
  },
  {
   "cell_type": "code",
   "execution_count": 15,
   "metadata": {},
   "outputs": [
    {
     "data": {
      "text/html": [
       "<div>\n",
       "<style scoped>\n",
       "    .dataframe tbody tr th:only-of-type {\n",
       "        vertical-align: middle;\n",
       "    }\n",
       "\n",
       "    .dataframe tbody tr th {\n",
       "        vertical-align: top;\n",
       "    }\n",
       "\n",
       "    .dataframe thead th {\n",
       "        text-align: right;\n",
       "    }\n",
       "</style>\n",
       "<table border=\"1\" class=\"dataframe\">\n",
       "  <thead>\n",
       "    <tr style=\"text-align: right;\">\n",
       "      <th></th>\n",
       "      <th>student_id</th>\n",
       "    </tr>\n",
       "  </thead>\n",
       "  <tbody>\n",
       "    <tr>\n",
       "      <th>0</th>\n",
       "      <td>581585</td>\n",
       "    </tr>\n",
       "    <tr>\n",
       "      <th>1</th>\n",
       "      <td>5723133</td>\n",
       "    </tr>\n",
       "    <tr>\n",
       "      <th>2</th>\n",
       "      <td>3276743</td>\n",
       "    </tr>\n",
       "    <tr>\n",
       "      <th>3</th>\n",
       "      <td>4238589</td>\n",
       "    </tr>\n",
       "    <tr>\n",
       "      <th>4</th>\n",
       "      <td>4475369</td>\n",
       "    </tr>\n",
       "  </tbody>\n",
       "</table>\n",
       "</div>"
      ],
      "text/plain": [
       "   student_id\n",
       "0      581585\n",
       "1     5723133\n",
       "2     3276743\n",
       "3     4238589\n",
       "4     4475369"
      ]
     },
     "execution_count": 15,
     "metadata": {},
     "output_type": "execute_result"
    }
   ],
   "source": [
    "customers.head(5)"
   ]
  },
  {
   "cell_type": "code",
   "execution_count": 16,
   "metadata": {},
   "outputs": [
    {
     "name": "stdout",
     "output_type": "stream",
     "text": [
      "<class 'pandas.core.frame.DataFrame'>\n",
      "RangeIndex: 541 entries, 0 to 540\n",
      "Data columns (total 2 columns):\n",
      " #   Column      Non-Null Count  Dtype  \n",
      "---  ------      --------------  -----  \n",
      " 0   student_id  541 non-null    int64  \n",
      " 1   rev         541 non-null    float64\n",
      "dtypes: float64(1), int64(1)\n",
      "memory usage: 8.6 KB\n"
     ]
    }
   ],
   "source": [
    "checks.info()"
   ]
  },
  {
   "cell_type": "code",
   "execution_count": 17,
   "metadata": {},
   "outputs": [
    {
     "data": {
      "text/html": [
       "<div>\n",
       "<style scoped>\n",
       "    .dataframe tbody tr th:only-of-type {\n",
       "        vertical-align: middle;\n",
       "    }\n",
       "\n",
       "    .dataframe tbody tr th {\n",
       "        vertical-align: top;\n",
       "    }\n",
       "\n",
       "    .dataframe thead th {\n",
       "        text-align: right;\n",
       "    }\n",
       "</style>\n",
       "<table border=\"1\" class=\"dataframe\">\n",
       "  <thead>\n",
       "    <tr style=\"text-align: right;\">\n",
       "      <th></th>\n",
       "      <th>student_id</th>\n",
       "      <th>rev</th>\n",
       "    </tr>\n",
       "  </thead>\n",
       "  <tbody>\n",
       "    <tr>\n",
       "      <th>0</th>\n",
       "      <td>1627</td>\n",
       "      <td>990.0</td>\n",
       "    </tr>\n",
       "    <tr>\n",
       "      <th>1</th>\n",
       "      <td>3185</td>\n",
       "      <td>690.0</td>\n",
       "    </tr>\n",
       "    <tr>\n",
       "      <th>2</th>\n",
       "      <td>25973</td>\n",
       "      <td>690.0</td>\n",
       "    </tr>\n",
       "    <tr>\n",
       "      <th>3</th>\n",
       "      <td>26280</td>\n",
       "      <td>690.0</td>\n",
       "    </tr>\n",
       "    <tr>\n",
       "      <th>4</th>\n",
       "      <td>100300</td>\n",
       "      <td>990.0</td>\n",
       "    </tr>\n",
       "  </tbody>\n",
       "</table>\n",
       "</div>"
      ],
      "text/plain": [
       "   student_id    rev\n",
       "0        1627  990.0\n",
       "1        3185  690.0\n",
       "2       25973  690.0\n",
       "3       26280  690.0\n",
       "4      100300  990.0"
      ]
     },
     "execution_count": 17,
     "metadata": {},
     "output_type": "execute_result"
    }
   ],
   "source": [
    "checks.head(5)"
   ]
  },
  {
   "cell_type": "markdown",
   "metadata": {},
   "source": [
    "Создание объединенной таблицы"
   ]
  },
  {
   "cell_type": "markdown",
   "metadata": {},
   "source": [
    "Переименуем колонку с ID для слияния таблицы с пользователями по группам для соотнесения с доходами"
   ]
  },
  {
   "cell_type": "code",
   "execution_count": 18,
   "metadata": {},
   "outputs": [],
   "source": [
    "overall_groups.rename(columns={'id': 'student_id'}, inplace=True)"
   ]
  },
  {
   "cell_type": "code",
   "execution_count": 19,
   "metadata": {},
   "outputs": [
    {
     "data": {
      "text/html": [
       "<div>\n",
       "<style scoped>\n",
       "    .dataframe tbody tr th:only-of-type {\n",
       "        vertical-align: middle;\n",
       "    }\n",
       "\n",
       "    .dataframe tbody tr th {\n",
       "        vertical-align: top;\n",
       "    }\n",
       "\n",
       "    .dataframe thead th {\n",
       "        text-align: right;\n",
       "    }\n",
       "</style>\n",
       "<table border=\"1\" class=\"dataframe\">\n",
       "  <thead>\n",
       "    <tr style=\"text-align: right;\">\n",
       "      <th></th>\n",
       "      <th>student_id</th>\n",
       "      <th>grp</th>\n",
       "    </tr>\n",
       "  </thead>\n",
       "  <tbody>\n",
       "    <tr>\n",
       "      <th>0</th>\n",
       "      <td>1489</td>\n",
       "      <td>B</td>\n",
       "    </tr>\n",
       "  </tbody>\n",
       "</table>\n",
       "</div>"
      ],
      "text/plain": [
       "   student_id grp\n",
       "0        1489   B"
      ]
     },
     "execution_count": 19,
     "metadata": {},
     "output_type": "execute_result"
    }
   ],
   "source": [
    "overall_groups.head(1)"
   ]
  },
  {
   "cell_type": "code",
   "execution_count": 20,
   "metadata": {},
   "outputs": [],
   "source": [
    "customers_info = overall_groups.merge(checks, on='student_id', how='left')"
   ]
  },
  {
   "cell_type": "markdown",
   "metadata": {},
   "source": [
    "Проверяем чтобы размер базы ID пользователей не уменьшился"
   ]
  },
  {
   "cell_type": "code",
   "execution_count": 21,
   "metadata": {},
   "outputs": [
    {
     "data": {
      "text/plain": [
       "True"
      ]
     },
     "execution_count": 21,
     "metadata": {},
     "output_type": "execute_result"
    }
   ],
   "source": [
    "overall_groups.shape[0]-customers_info.shape[0] == 0"
   ]
  },
  {
   "cell_type": "markdown",
   "metadata": {},
   "source": [
    "Заполним отсутствующие значения нулями"
   ]
  },
  {
   "cell_type": "code",
   "execution_count": 22,
   "metadata": {},
   "outputs": [],
   "source": [
    "customers_info.fillna(0, inplace=True)"
   ]
  },
  {
   "cell_type": "markdown",
   "metadata": {},
   "source": [
    "Переведём rev в целые значения"
   ]
  },
  {
   "cell_type": "code",
   "execution_count": 23,
   "metadata": {},
   "outputs": [],
   "source": [
    "customers_info.rev = customers_info.rev.astype(int)"
   ]
  },
  {
   "cell_type": "markdown",
   "metadata": {},
   "source": [
    "Проверим, чтобы у нас каждый пользователь был распределён по группам"
   ]
  },
  {
   "cell_type": "code",
   "execution_count": 24,
   "metadata": {},
   "outputs": [
    {
     "data": {
      "text/plain": [
       "array(['B', 'A'], dtype=object)"
      ]
     },
     "execution_count": 24,
     "metadata": {},
     "output_type": "execute_result"
    }
   ],
   "source": [
    "customers_info.grp.unique()"
   ]
  },
  {
   "cell_type": "markdown",
   "metadata": {},
   "source": [
    "                                                   Предобработка данных"
   ]
  },
  {
   "cell_type": "markdown",
   "metadata": {},
   "source": [
    "Создадим лист для активных клиентов в дни проведения эксперимента"
   ]
  },
  {
   "cell_type": "code",
   "execution_count": 25,
   "metadata": {},
   "outputs": [],
   "source": [
    "customers_list = customers.student_id.to_list()"
   ]
  },
  {
   "cell_type": "code",
   "execution_count": 26,
   "metadata": {},
   "outputs": [
    {
     "data": {
      "text/plain": [
       "[581585,\n",
       " 5723133,\n",
       " 3276743,\n",
       " 4238589,\n",
       " 4475369,\n",
       " 5481015,\n",
       " 1353433,\n",
       " 1394612,\n",
       " 1170611,\n",
       " 491277,\n",
       " 2901778,\n",
       " 3349200,\n",
       " 1793347,\n",
       " 1088622,\n",
       " 2507615,\n",
       " 1360026,\n",
       " 3122918,\n",
       " 487247,\n",
       " 4095339,\n",
       " 1066373,\n",
       " 639477,\n",
       " 5194768,\n",
       " 3658923,\n",
       " 4169925,\n",
       " 512868,\n",
       " 1236043,\n",
       " 4796033,\n",
       " 1272447,\n",
       " 3414514,\n",
       " 4877802,\n",
       " 368149,\n",
       " 4666173,\n",
       " 2644683,\n",
       " 4927531,\n",
       " 1334980,\n",
       " 3356986,\n",
       " 478488,\n",
       " 1388387,\n",
       " 1116382,\n",
       " 1238584,\n",
       " 3213060,\n",
       " 3443458,\n",
       " 1806023,\n",
       " 1294353,\n",
       " 1136450,\n",
       " 1485102,\n",
       " 5678521,\n",
       " 1418403,\n",
       " 1338133,\n",
       " 3490944,\n",
       " 3505431,\n",
       " 4741247,\n",
       " 1063280,\n",
       " 3540535,\n",
       " 3207691,\n",
       " 3557030,\n",
       " 482241,\n",
       " 4461974,\n",
       " 3995792,\n",
       " 3062394,\n",
       " 1405187,\n",
       " 2139033,\n",
       " 1184303,\n",
       " 4539466,\n",
       " 785400,\n",
       " 4308029,\n",
       " 2068015,\n",
       " 3354191,\n",
       " 1148914,\n",
       " 1974127,\n",
       " 681169,\n",
       " 1133629,\n",
       " 3489863,\n",
       " 1622477,\n",
       " 1189162,\n",
       " 955477,\n",
       " 257244,\n",
       " 3278734,\n",
       " 1708610,\n",
       " 4766594,\n",
       " 3624562,\n",
       " 496778,\n",
       " 2309658,\n",
       " 3553482,\n",
       " 4624623,\n",
       " 1238419,\n",
       " 1963159,\n",
       " 3149898,\n",
       " 916134,\n",
       " 1011517,\n",
       " 5558980,\n",
       " 3623841,\n",
       " 5418281,\n",
       " 3356931,\n",
       " 2114824,\n",
       " 1851185,\n",
       " 763917,\n",
       " 359861,\n",
       " 4369519,\n",
       " 720651,\n",
       " 596080,\n",
       " 532445,\n",
       " 3779574,\n",
       " 4064654,\n",
       " 3338778,\n",
       " 1067799,\n",
       " 3496628,\n",
       " 697960,\n",
       " 4420993,\n",
       " 953283,\n",
       " 1314363,\n",
       " 5951797,\n",
       " 3502716,\n",
       " 797777,\n",
       " 1466814,\n",
       " 421533,\n",
       " 3720001,\n",
       " 2250367,\n",
       " 1032907,\n",
       " 4247802,\n",
       " 1399310,\n",
       " 1034901,\n",
       " 1940569,\n",
       " 1398174,\n",
       " 1566851,\n",
       " 4648840,\n",
       " 1275571,\n",
       " 3209127,\n",
       " 282640,\n",
       " 1060389,\n",
       " 1656961,\n",
       " 5235145,\n",
       " 1500295,\n",
       " 575881,\n",
       " 4060822,\n",
       " 3119615,\n",
       " 3786875,\n",
       " 278777,\n",
       " 3396750,\n",
       " 1171077,\n",
       " 391481,\n",
       " 3666899,\n",
       " 2409026,\n",
       " 1945240,\n",
       " 3368303,\n",
       " 5419386,\n",
       " 2396493,\n",
       " 5546143,\n",
       " 223256,\n",
       " 395944,\n",
       " 1381035,\n",
       " 1136414,\n",
       " 1700788,\n",
       " 1163468,\n",
       " 2043291,\n",
       " 5125302,\n",
       " 4608386,\n",
       " 1095334,\n",
       " 3696542,\n",
       " 1589008,\n",
       " 3626775,\n",
       " 1235486,\n",
       " 505089,\n",
       " 967723,\n",
       " 1882949,\n",
       " 1895158,\n",
       " 3248978,\n",
       " 276391,\n",
       " 1028066,\n",
       " 1885392,\n",
       " 262229,\n",
       " 4229386,\n",
       " 1476093,\n",
       " 3929686,\n",
       " 992484,\n",
       " 3718180,\n",
       " 1499252,\n",
       " 4107460,\n",
       " 256894,\n",
       " 1280196,\n",
       " 2898113,\n",
       " 2225917,\n",
       " 4764881,\n",
       " 712326,\n",
       " 4886359,\n",
       " 1311761,\n",
       " 618387,\n",
       " 220640,\n",
       " 324624,\n",
       " 1993090,\n",
       " 221876,\n",
       " 3880846,\n",
       " 3271454,\n",
       " 1232221,\n",
       " 1403919,\n",
       " 3821501,\n",
       " 1527759,\n",
       " 1202962,\n",
       " 1131897,\n",
       " 1712065,\n",
       " 654043,\n",
       " 1899902,\n",
       " 3219359,\n",
       " 5168975,\n",
       " 259145,\n",
       " 3326330,\n",
       " 1738962,\n",
       " 1088905,\n",
       " 510998,\n",
       " 2041417,\n",
       " 725560,\n",
       " 1036096,\n",
       " 3044110,\n",
       " 1044927,\n",
       " 1154734,\n",
       " 1790619,\n",
       " 3232516,\n",
       " 3020862,\n",
       " 4328184,\n",
       " 326235,\n",
       " 2776332,\n",
       " 1579363,\n",
       " 2595308,\n",
       " 3441985,\n",
       " 4543800,\n",
       " 1118727,\n",
       " 3255972,\n",
       " 1297601,\n",
       " 1713143,\n",
       " 672022,\n",
       " 837272,\n",
       " 2155270,\n",
       " 4688810,\n",
       " 218630,\n",
       " 3453637,\n",
       " 2805895,\n",
       " 1547112,\n",
       " 1043199,\n",
       " 588164,\n",
       " 5380274,\n",
       " 185923,\n",
       " 3100847,\n",
       " 1441346,\n",
       " 3622791,\n",
       " 3240495,\n",
       " 716994,\n",
       " 5522726,\n",
       " 1028418,\n",
       " 1153375,\n",
       " 323942,\n",
       " 632838,\n",
       " 4327658,\n",
       " 4740091,\n",
       " 1706724,\n",
       " 2895136,\n",
       " 3469116,\n",
       " 4206175,\n",
       " 506500,\n",
       " 5020933,\n",
       " 2600313,\n",
       " 4532861,\n",
       " 1784368,\n",
       " 639164,\n",
       " 5167085,\n",
       " 1278958,\n",
       " 5289818,\n",
       " 518022,\n",
       " 1057511,\n",
       " 3169798,\n",
       " 1291735,\n",
       " 4712091,\n",
       " 2046282,\n",
       " 1749938,\n",
       " 335141,\n",
       " 1345940,\n",
       " 1297662,\n",
       " 248843,\n",
       " 238309,\n",
       " 1262801,\n",
       " 1119734,\n",
       " 3949451,\n",
       " 3451092,\n",
       " 4356810,\n",
       " 5351196,\n",
       " 499325,\n",
       " 3196697,\n",
       " 3501344,\n",
       " 1605905,\n",
       " 351758,\n",
       " 1977662,\n",
       " 1810682,\n",
       " 1943159,\n",
       " 1568547,\n",
       " 1245876,\n",
       " 1454875,\n",
       " 2572794,\n",
       " 1913473,\n",
       " 227609,\n",
       " 375410,\n",
       " 2627781,\n",
       " 1753439,\n",
       " 445725,\n",
       " 973780,\n",
       " 1201069,\n",
       " 1190601,\n",
       " 4193149,\n",
       " 4337103,\n",
       " 3145772,\n",
       " 2618418,\n",
       " 4512838,\n",
       " 344273,\n",
       " 4582977,\n",
       " 5307363,\n",
       " 3503560,\n",
       " 227971,\n",
       " 491250,\n",
       " 2309879,\n",
       " 1038488,\n",
       " 3278017,\n",
       " 3124465,\n",
       " 1252079,\n",
       " 407964,\n",
       " 2379533,\n",
       " 1089482,\n",
       " 886772,\n",
       " 3399663,\n",
       " 5423464,\n",
       " 3216207,\n",
       " 3346936,\n",
       " 4538969,\n",
       " 331305,\n",
       " 4185684,\n",
       " 1078580,\n",
       " 1092007,\n",
       " 735370,\n",
       " 1205832,\n",
       " 4377279,\n",
       " 1276390,\n",
       " 4821879,\n",
       " 3247142,\n",
       " 1134649,\n",
       " 4238255,\n",
       " 4362225,\n",
       " 1888618,\n",
       " 5211719,\n",
       " 591511,\n",
       " 4570004,\n",
       " 905075,\n",
       " 2593574,\n",
       " 1815152,\n",
       " 1206704,\n",
       " 2189904,\n",
       " 5395709,\n",
       " 1055794,\n",
       " 671767,\n",
       " 4325744,\n",
       " 1060848,\n",
       " 312474,\n",
       " 4363663,\n",
       " 1494178,\n",
       " 1073741,\n",
       " 3717766,\n",
       " 994672,\n",
       " 2846835,\n",
       " 1183520,\n",
       " 5189299,\n",
       " 537524,\n",
       " 218221,\n",
       " 4130274,\n",
       " 4643544,\n",
       " 3214294,\n",
       " 3048239,\n",
       " 1197409,\n",
       " 1762782,\n",
       " 3534972,\n",
       " 5445278,\n",
       " 1086798,\n",
       " 1106848,\n",
       " 1631400,\n",
       " 218671,\n",
       " 2680299,\n",
       " 1192428,\n",
       " 1410485,\n",
       " 5097066,\n",
       " 3665956,\n",
       " 1021946,\n",
       " 3044104,\n",
       " 3307951,\n",
       " 3578368,\n",
       " 2842420,\n",
       " 4488286,\n",
       " 3137379,\n",
       " 332387,\n",
       " 3391114,\n",
       " 1445670,\n",
       " 2489006,\n",
       " 4737861,\n",
       " 1340315,\n",
       " 1397678,\n",
       " 2900712,\n",
       " 3251337,\n",
       " 3014101,\n",
       " 3593568,\n",
       " 989483,\n",
       " 781413,\n",
       " 817513,\n",
       " 1397756,\n",
       " 5492604,\n",
       " 917291,\n",
       " 1091464,\n",
       " 560774,\n",
       " 4239746,\n",
       " 1325838,\n",
       " 475440,\n",
       " 1543217,\n",
       " 4905920,\n",
       " 4500573,\n",
       " 1395125,\n",
       " 1432631,\n",
       " 5591057,\n",
       " 1036379,\n",
       " 864610,\n",
       " 1152371,\n",
       " 5117859,\n",
       " 3335339,\n",
       " 921751,\n",
       " 1368962,\n",
       " 4093055,\n",
       " 3276884,\n",
       " 2140282,\n",
       " 3409816,\n",
       " 5552829,\n",
       " 1395347,\n",
       " 1980077,\n",
       " 1256532,\n",
       " 4088266,\n",
       " 2439198,\n",
       " 1252484,\n",
       " 1408270,\n",
       " 1659434,\n",
       " 1072519,\n",
       " 1771875,\n",
       " 5308498,\n",
       " 1554357,\n",
       " 682009,\n",
       " 1357265,\n",
       " 728258,\n",
       " 5243676,\n",
       " 1047639,\n",
       " 487289,\n",
       " 3286705,\n",
       " 1334218,\n",
       " 1036065,\n",
       " 2251649,\n",
       " 2972164,\n",
       " 4625732,\n",
       " 5255378,\n",
       " 1378426,\n",
       " 4360253,\n",
       " 1632027,\n",
       " 3916358,\n",
       " 424420,\n",
       " 713483,\n",
       " 1919950,\n",
       " 1901912,\n",
       " 1905242,\n",
       " 196094,\n",
       " 4529949,\n",
       " 5466584,\n",
       " 839841,\n",
       " 4087674,\n",
       " 4165475,\n",
       " 200310,\n",
       " 1919160,\n",
       " 1300333,\n",
       " 2009966,\n",
       " 3152665,\n",
       " 1254208,\n",
       " 1683657,\n",
       " 4550363,\n",
       " 3943100,\n",
       " 3937112,\n",
       " 722010,\n",
       " 1666439,\n",
       " 1005023,\n",
       " 3237270,\n",
       " 626269,\n",
       " 3505682,\n",
       " 2734720,\n",
       " 622465,\n",
       " 2872024,\n",
       " 1457191,\n",
       " 1913251,\n",
       " 1037236,\n",
       " 5317859,\n",
       " 3170652,\n",
       " 1127397,\n",
       " 1060164,\n",
       " 752883,\n",
       " 1140828,\n",
       " 3640303,\n",
       " 1821599,\n",
       " 4030208,\n",
       " 623494,\n",
       " 3448190,\n",
       " 1489324,\n",
       " 3509177,\n",
       " 579592,\n",
       " 4278004,\n",
       " 2686297,\n",
       " 4869877,\n",
       " 2426419,\n",
       " 3028203,\n",
       " 2557593,\n",
       " 2209292,\n",
       " 3328109,\n",
       " 4113535,\n",
       " 1897412,\n",
       " 419313,\n",
       " 4213444,\n",
       " 5228435,\n",
       " 299247,\n",
       " 3455381,\n",
       " 1147732,\n",
       " 3148679,\n",
       " 766481,\n",
       " 1458554,\n",
       " 945075,\n",
       " 2923755,\n",
       " 384454,\n",
       " 4422179,\n",
       " 440800,\n",
       " 1706379,\n",
       " 1432288,\n",
       " 2826302,\n",
       " 3183254,\n",
       " 1863578,\n",
       " 2767371,\n",
       " 3927585,\n",
       " 672892,\n",
       " 792695,\n",
       " 4848730,\n",
       " 1788046,\n",
       " 1839373,\n",
       " 3194656,\n",
       " 4989078,\n",
       " 431483,\n",
       " 3944405,\n",
       " 3171816,\n",
       " 4289363,\n",
       " 4573419,\n",
       " 4179183,\n",
       " 1202332,\n",
       " 266595,\n",
       " 3397128,\n",
       " 1289153,\n",
       " 4368651,\n",
       " 4478103,\n",
       " 1319224,\n",
       " 2960784,\n",
       " 597095,\n",
       " 1470043,\n",
       " 2056019,\n",
       " 356616,\n",
       " 1450297,\n",
       " 1771929,\n",
       " 1119408,\n",
       " 314839,\n",
       " 1551921,\n",
       " 372516,\n",
       " 1376268,\n",
       " 3124996,\n",
       " 1227931,\n",
       " 4256296,\n",
       " 4003974,\n",
       " 1101581,\n",
       " 5482178,\n",
       " 2235123,\n",
       " 1019619,\n",
       " 1139662,\n",
       " 1511510,\n",
       " 4827910,\n",
       " 1116055,\n",
       " 5263381,\n",
       " 4976038,\n",
       " 1729326,\n",
       " 1147856,\n",
       " 1498770,\n",
       " 5486919,\n",
       " 2993338,\n",
       " 1916154,\n",
       " 1624158,\n",
       " 1683631,\n",
       " 855042,\n",
       " 184820,\n",
       " 237792,\n",
       " 1477829,\n",
       " 3474859,\n",
       " 4208727,\n",
       " 2113505,\n",
       " 5012504,\n",
       " 220645,\n",
       " 1041342,\n",
       " 456247,\n",
       " 3041368,\n",
       " 3760463,\n",
       " 447374,\n",
       " 3347363,\n",
       " 2811256,\n",
       " 2924126,\n",
       " 1412265,\n",
       " 671883,\n",
       " 2027486,\n",
       " 3472495,\n",
       " 3608372,\n",
       " 1847237,\n",
       " 1419661,\n",
       " 3576839,\n",
       " 511969,\n",
       " 3247288,\n",
       " 193445,\n",
       " 501605,\n",
       " 3116725,\n",
       " 1157860,\n",
       " 5017246,\n",
       " 215161,\n",
       " 5215932,\n",
       " 1044028,\n",
       " 1158426,\n",
       " 2706262,\n",
       " 4850021,\n",
       " 1012757,\n",
       " 5730382,\n",
       " 857017,\n",
       " 1381168,\n",
       " 4098415,\n",
       " 3252462,\n",
       " 5162445,\n",
       " 5181291,\n",
       " 1851423,\n",
       " 3867567,\n",
       " 2533828,\n",
       " 1717113,\n",
       " 5224687,\n",
       " 3088111,\n",
       " 1930783,\n",
       " 1167906,\n",
       " 3161100,\n",
       " 3119012,\n",
       " 5000891,\n",
       " 1124808,\n",
       " 3462783,\n",
       " 2564706,\n",
       " 2553285,\n",
       " 1570231,\n",
       " 3137864,\n",
       " 1288225,\n",
       " 3070236,\n",
       " 3743642,\n",
       " 1699125,\n",
       " 2424994,\n",
       " 1848811,\n",
       " 1685756,\n",
       " 2789052,\n",
       " 645651,\n",
       " 1241005,\n",
       " 5286493,\n",
       " 387189,\n",
       " 4317974,\n",
       " 2671987,\n",
       " 2447133,\n",
       " 2187383,\n",
       " 5073192,\n",
       " 2615912,\n",
       " 1310172,\n",
       " 1108686,\n",
       " 1942892,\n",
       " 1078770,\n",
       " 514425,\n",
       " 1713538,\n",
       " 2858488,\n",
       " 1410414,\n",
       " 438590,\n",
       " 1275070,\n",
       " 4903444,\n",
       " 393037,\n",
       " 3895541,\n",
       " 4861037,\n",
       " 3335010,\n",
       " 4012757,\n",
       " 1235596,\n",
       " 1682127,\n",
       " 3365894,\n",
       " 5010119,\n",
       " 2833766,\n",
       " 749224,\n",
       " 2885892,\n",
       " 861306,\n",
       " 584482,\n",
       " 4435600,\n",
       " 4845327,\n",
       " 1791600,\n",
       " 4894984,\n",
       " 3697339,\n",
       " 282655,\n",
       " 3663765,\n",
       " 1823690,\n",
       " 3301823,\n",
       " 1199951,\n",
       " 4570728,\n",
       " 1024465,\n",
       " 1429932,\n",
       " 4884572,\n",
       " 989664,\n",
       " 4016481,\n",
       " 4398383,\n",
       " 3720824,\n",
       " 5504357,\n",
       " 5407698,\n",
       " 575770,\n",
       " 1031966,\n",
       " 1016481,\n",
       " 3689361,\n",
       " 1159508,\n",
       " 363518,\n",
       " 553922,\n",
       " 885140,\n",
       " 2260603,\n",
       " 1197215,\n",
       " 1041603,\n",
       " 309830,\n",
       " 279900,\n",
       " 1202841,\n",
       " 1403497,\n",
       " 1978299,\n",
       " 1149413,\n",
       " 254256,\n",
       " 2646872,\n",
       " 5319031,\n",
       " 197228,\n",
       " 3846873,\n",
       " 4765622,\n",
       " 5390933,\n",
       " 3271554,\n",
       " 3476965,\n",
       " 1883406,\n",
       " 3836678,\n",
       " 1929477,\n",
       " 1330102,\n",
       " 3313631,\n",
       " 4553243,\n",
       " 258341,\n",
       " 5626701,\n",
       " 1770483,\n",
       " 1260232,\n",
       " 3199494,\n",
       " 678255,\n",
       " 1217972,\n",
       " 3032855,\n",
       " 2021307,\n",
       " 1126160,\n",
       " 222818,\n",
       " 864775,\n",
       " 3259861,\n",
       " 2053409,\n",
       " 3308044,\n",
       " 1031033,\n",
       " 2348129,\n",
       " 999716,\n",
       " 2208909,\n",
       " 4473374,\n",
       " 532089,\n",
       " 240843,\n",
       " 1043515,\n",
       " 1587686,\n",
       " 1095880,\n",
       " 1287477,\n",
       " 2083143,\n",
       " 588030,\n",
       " 3449243,\n",
       " 1084138,\n",
       " 1183914,\n",
       " 1526640,\n",
       " 1373209,\n",
       " 2920008,\n",
       " 3253356,\n",
       " 3541333,\n",
       " 311228,\n",
       " 3451796,\n",
       " 294391,\n",
       " 2643181,\n",
       " 5372547,\n",
       " 465653,\n",
       " 3009101,\n",
       " 3446899,\n",
       " 3051313,\n",
       " 1075299,\n",
       " 5630734,\n",
       " 3154264,\n",
       " 2802960,\n",
       " 4791448,\n",
       " 4288152,\n",
       " 667386,\n",
       " 1297640,\n",
       " 449118,\n",
       " 1040441,\n",
       " 265018,\n",
       " 2012361,\n",
       " 1723605,\n",
       " 1519032,\n",
       " 1053567,\n",
       " 1683630,\n",
       " 3122628,\n",
       " 3186615,\n",
       " 1888546,\n",
       " 3805131,\n",
       " 3565882,\n",
       " 1410706,\n",
       " 3566498,\n",
       " 758911,\n",
       " 4830249,\n",
       " 2010829,\n",
       " 5065931,\n",
       " 3460266,\n",
       " 2630717,\n",
       " 1083832,\n",
       " 4660919,\n",
       " 4336479,\n",
       " 1273306,\n",
       " 262285,\n",
       " 1011486,\n",
       " 1455813,\n",
       " 3235927,\n",
       " 3549515,\n",
       " 2599173,\n",
       " 5182220,\n",
       " 3156863,\n",
       " 5169540,\n",
       " 1527518,\n",
       " 193475,\n",
       " 1148727,\n",
       " 1920879,\n",
       " 1563208,\n",
       " 658179,\n",
       " 3190696,\n",
       " 912099,\n",
       " 1469548,\n",
       " 1245493,\n",
       " 1609502,\n",
       " 278657,\n",
       " 5599841,\n",
       " 4245674,\n",
       " 352251,\n",
       " 991392,\n",
       " 4628370,\n",
       " 4890950,\n",
       " 572894,\n",
       " 4039500,\n",
       " 3577239,\n",
       " 1243807,\n",
       " 528706,\n",
       " 356815,\n",
       " 1281541,\n",
       " 1058873,\n",
       " 576709,\n",
       " 1242476,\n",
       " 3447377,\n",
       " 595206,\n",
       " 1015100,\n",
       " 5315569,\n",
       " 3249082,\n",
       " 245016,\n",
       " 3378923,\n",
       " 1546627,\n",
       " 4617551,\n",
       " 1223554,\n",
       " 3456435,\n",
       " 3424555,\n",
       " 528873,\n",
       " 212955,\n",
       " 278477,\n",
       " 358592,\n",
       " 334343,\n",
       " 3206046,\n",
       " 1588377,\n",
       " 4489403,\n",
       " 5204009,\n",
       " 1233264,\n",
       " 4276146,\n",
       " 3252038,\n",
       " 1742685,\n",
       " 285070,\n",
       " 4002820,\n",
       " 1786233,\n",
       " 1154221,\n",
       " 2037690,\n",
       " 355327,\n",
       " 1110609,\n",
       " 2218676,\n",
       " 1731049,\n",
       " 4836467,\n",
       " 765058,\n",
       " 3884683,\n",
       " 1086616,\n",
       " 4083434,\n",
       " 1082478,\n",
       " 3802161,\n",
       " 1789373,\n",
       " 5681918,\n",
       " 1041417,\n",
       " 5120505,\n",
       " 2611407,\n",
       " 1981386,\n",
       " 1202108,\n",
       " 1001371,\n",
       " 3083788,\n",
       " 1337332,\n",
       " 576780,\n",
       " 1424436,\n",
       " 1146984,\n",
       " 2228964,\n",
       " 3962164,\n",
       " 4472446,\n",
       " 1118405,\n",
       " 5367353,\n",
       " 1260356,\n",
       " 1042612,\n",
       " 1238422,\n",
       " 1380879,\n",
       " 5438066,\n",
       " 1293885,\n",
       " 667725,\n",
       " 2508349,\n",
       " 2414118,\n",
       " 3156688,\n",
       " 3477360,\n",
       " 1489498,\n",
       " 617734,\n",
       " 619696,\n",
       " 4869512,\n",
       " 144875,\n",
       " 2849430,\n",
       " 587905,\n",
       " 3530122,\n",
       " 4201280,\n",
       " 4980516,\n",
       " 2913061,\n",
       " 2271005,\n",
       " 5210949,\n",
       " 4333057,\n",
       " 3394444,\n",
       " 3917519,\n",
       " 2614255,\n",
       " 2346174,\n",
       " 3587579,\n",
       " 2920299,\n",
       " 1807468,\n",
       " 209403,\n",
       " 3343073,\n",
       " 2526021,\n",
       " 1091842,\n",
       " 5262131,\n",
       " 912075,\n",
       " 3309734,\n",
       " 357942,\n",
       " 5253767,\n",
       " 4466997,\n",
       " 341525,\n",
       " 1628995,\n",
       " 1668896,\n",
       " 3664902,\n",
       " 262529,\n",
       " 5123618,\n",
       " 3085467,\n",
       " 4893726,\n",
       " 812069,\n",
       " 1745436,\n",
       " 2472728,\n",
       " 4964380,\n",
       " 4496848,\n",
       " 703252,\n",
       " 5335888,\n",
       " 765243,\n",
       " 2846429,\n",
       " 1868574,\n",
       " 4942112,\n",
       " 3573963,\n",
       " 4010235,\n",
       " 3501703,\n",
       " 3973085,\n",
       " 4681953,\n",
       " 1192231,\n",
       " 1561859,\n",
       " 1506618,\n",
       " 3843859,\n",
       " 1090688,\n",
       " 2761027,\n",
       " 1728090,\n",
       " 4960236,\n",
       " 1217532,\n",
       " ...]"
      ]
     },
     "execution_count": 26,
     "metadata": {},
     "output_type": "execute_result"
    }
   ],
   "source": [
    "customers_list"
   ]
  },
  {
   "cell_type": "markdown",
   "metadata": {},
   "source": [
    "Создадим новую промежуточную колонку чтобы отображать совершил ли студент покупку"
   ]
  },
  {
   "cell_type": "code",
   "execution_count": 27,
   "metadata": {},
   "outputs": [],
   "source": [
    "customers_info['purchase'] = customers_info.rev.apply(lambda x: True if x != 0 else False)"
   ]
  },
  {
   "cell_type": "markdown",
   "metadata": {},
   "source": [
    "Добавим отдельную колонку для отображения активности у клиентов"
   ]
  },
  {
   "cell_type": "code",
   "execution_count": 28,
   "metadata": {},
   "outputs": [],
   "source": [
    "customers_info['is_active'] = customers_info.student_id.apply(lambda x: True if x in customers_list else False)"
   ]
  },
  {
   "cell_type": "markdown",
   "metadata": {},
   "source": [
    "Посмотрим у скольки клиентов был неактивный статус, хотя они делали покупки и преобразуем число в переменную для сравнения"
   ]
  },
  {
   "cell_type": "code",
   "execution_count": 29,
   "metadata": {},
   "outputs": [],
   "source": [
    "inactive_buying = customers_info[customers_info.purchase].shape[0] - customers_info[customers_info.is_active & customers_info.purchase].shape[0] "
   ]
  },
  {
   "cell_type": "code",
   "execution_count": 30,
   "metadata": {},
   "outputs": [
    {
     "data": {
      "text/plain": [
       "149"
      ]
     },
     "execution_count": 30,
     "metadata": {},
     "output_type": "execute_result"
    }
   ],
   "source": [
    "inactive_buying"
   ]
  },
  {
   "cell_type": "markdown",
   "metadata": {},
   "source": [
    "Исключим данных подобных пользователей из групп, поскольку в данном случае возможен сценарий автооплат, а выборки групп имеют достаточное количество наблюдений для формирования и тестирования гипотез."
   ]
  },
  {
   "cell_type": "code",
   "execution_count": 31,
   "metadata": {},
   "outputs": [],
   "source": [
    "customers_info.drop(customers_info.query('is_active == False & purchase == True').index, inplace=True)"
   ]
  },
  {
   "cell_type": "markdown",
   "metadata": {},
   "source": [
    "Проверим, чтобы мы исключили нужных нам пользователей, поскольку поведение данных студентов может не зависеть от новой механики оплаты и поэтому случайно"
   ]
  },
  {
   "cell_type": "code",
   "execution_count": 32,
   "metadata": {},
   "outputs": [
    {
     "data": {
      "text/html": [
       "<div>\n",
       "<style scoped>\n",
       "    .dataframe tbody tr th:only-of-type {\n",
       "        vertical-align: middle;\n",
       "    }\n",
       "\n",
       "    .dataframe tbody tr th {\n",
       "        vertical-align: top;\n",
       "    }\n",
       "\n",
       "    .dataframe thead th {\n",
       "        text-align: right;\n",
       "    }\n",
       "</style>\n",
       "<table border=\"1\" class=\"dataframe\">\n",
       "  <thead>\n",
       "    <tr style=\"text-align: right;\">\n",
       "      <th></th>\n",
       "      <th>student_id</th>\n",
       "      <th>grp</th>\n",
       "      <th>rev</th>\n",
       "      <th>purchase</th>\n",
       "      <th>is_active</th>\n",
       "    </tr>\n",
       "  </thead>\n",
       "  <tbody>\n",
       "  </tbody>\n",
       "</table>\n",
       "</div>"
      ],
      "text/plain": [
       "Empty DataFrame\n",
       "Columns: [student_id, grp, rev, purchase, is_active]\n",
       "Index: []"
      ]
     },
     "execution_count": 32,
     "metadata": {},
     "output_type": "execute_result"
    }
   ],
   "source": [
    "customers_info.query('is_active == False & purchase == True')"
   ]
  },
  {
   "cell_type": "markdown",
   "metadata": {},
   "source": [
    "Теперь оставим только клиентов которые были активны во время эксперимента, чтобы сравнивать деятельность студентов из разных групп"
   ]
  },
  {
   "cell_type": "code",
   "execution_count": 33,
   "metadata": {},
   "outputs": [],
   "source": [
    "customers_info = customers_info[customers_info.is_active][['student_id', 'grp', 'rev', 'purchase']]"
   ]
  },
  {
   "cell_type": "code",
   "execution_count": 34,
   "metadata": {},
   "outputs": [
    {
     "data": {
      "text/html": [
       "<div>\n",
       "<style scoped>\n",
       "    .dataframe tbody tr th:only-of-type {\n",
       "        vertical-align: middle;\n",
       "    }\n",
       "\n",
       "    .dataframe tbody tr th {\n",
       "        vertical-align: top;\n",
       "    }\n",
       "\n",
       "    .dataframe thead th {\n",
       "        text-align: right;\n",
       "    }\n",
       "</style>\n",
       "<table border=\"1\" class=\"dataframe\">\n",
       "  <thead>\n",
       "    <tr style=\"text-align: right;\">\n",
       "      <th></th>\n",
       "      <th>student_id</th>\n",
       "      <th>grp</th>\n",
       "      <th>rev</th>\n",
       "      <th>purchase</th>\n",
       "    </tr>\n",
       "  </thead>\n",
       "  <tbody>\n",
       "    <tr>\n",
       "      <th>1</th>\n",
       "      <td>1627</td>\n",
       "      <td>A</td>\n",
       "      <td>990</td>\n",
       "      <td>True</td>\n",
       "    </tr>\n",
       "    <tr>\n",
       "      <th>10</th>\n",
       "      <td>2085</td>\n",
       "      <td>B</td>\n",
       "      <td>0</td>\n",
       "      <td>False</td>\n",
       "    </tr>\n",
       "    <tr>\n",
       "      <th>12</th>\n",
       "      <td>2215</td>\n",
       "      <td>B</td>\n",
       "      <td>0</td>\n",
       "      <td>False</td>\n",
       "    </tr>\n",
       "    <tr>\n",
       "      <th>43</th>\n",
       "      <td>3391</td>\n",
       "      <td>A</td>\n",
       "      <td>0</td>\n",
       "      <td>False</td>\n",
       "    </tr>\n",
       "    <tr>\n",
       "      <th>45</th>\n",
       "      <td>3401</td>\n",
       "      <td>B</td>\n",
       "      <td>0</td>\n",
       "      <td>False</td>\n",
       "    </tr>\n",
       "  </tbody>\n",
       "</table>\n",
       "</div>"
      ],
      "text/plain": [
       "    student_id grp  rev  purchase\n",
       "1         1627   A  990      True\n",
       "10        2085   B    0     False\n",
       "12        2215   B    0     False\n",
       "43        3391   A    0     False\n",
       "45        3401   B    0     False"
      ]
     },
     "execution_count": 34,
     "metadata": {},
     "output_type": "execute_result"
    }
   ],
   "source": [
    "customers_info.head(5)"
   ]
  },
  {
   "cell_type": "markdown",
   "metadata": {},
   "source": [
    "Проверим является ли каждая строка соответствующая ID студента сагрегированной по выручке"
   ]
  },
  {
   "cell_type": "code",
   "execution_count": 35,
   "metadata": {},
   "outputs": [
    {
     "name": "stdout",
     "output_type": "stream",
     "text": [
      "Каждая строка отражает сагрегированный доход на уникального клиента\n"
     ]
    }
   ],
   "source": [
    "if customers_info.shape[0] == customers_info.student_id.nunique():\n",
    "    print('Каждая строка отражает сагрегированный доход на уникального клиента')\n",
    "else:\n",
    "    print('Необходима группировка для отображения дохода на клиента')"
   ]
  },
  {
   "cell_type": "markdown",
   "metadata": {},
   "source": [
    "Разделим всех пользователей в отдельные датасеты по группам тестирования для дальнейшего удобства"
   ]
  },
  {
   "cell_type": "code",
   "execution_count": 36,
   "metadata": {},
   "outputs": [],
   "source": [
    "control_group = customers_info[customers_info.grp == 'A']"
   ]
  },
  {
   "cell_type": "code",
   "execution_count": 37,
   "metadata": {},
   "outputs": [
    {
     "data": {
      "text/html": [
       "<div>\n",
       "<style scoped>\n",
       "    .dataframe tbody tr th:only-of-type {\n",
       "        vertical-align: middle;\n",
       "    }\n",
       "\n",
       "    .dataframe tbody tr th {\n",
       "        vertical-align: top;\n",
       "    }\n",
       "\n",
       "    .dataframe thead th {\n",
       "        text-align: right;\n",
       "    }\n",
       "</style>\n",
       "<table border=\"1\" class=\"dataframe\">\n",
       "  <thead>\n",
       "    <tr style=\"text-align: right;\">\n",
       "      <th></th>\n",
       "      <th>student_id</th>\n",
       "      <th>grp</th>\n",
       "      <th>rev</th>\n",
       "      <th>purchase</th>\n",
       "    </tr>\n",
       "  </thead>\n",
       "  <tbody>\n",
       "    <tr>\n",
       "      <th>1</th>\n",
       "      <td>1627</td>\n",
       "      <td>A</td>\n",
       "      <td>990</td>\n",
       "      <td>True</td>\n",
       "    </tr>\n",
       "    <tr>\n",
       "      <th>43</th>\n",
       "      <td>3391</td>\n",
       "      <td>A</td>\n",
       "      <td>0</td>\n",
       "      <td>False</td>\n",
       "    </tr>\n",
       "    <tr>\n",
       "      <th>331</th>\n",
       "      <td>109623</td>\n",
       "      <td>A</td>\n",
       "      <td>0</td>\n",
       "      <td>False</td>\n",
       "    </tr>\n",
       "    <tr>\n",
       "      <th>614</th>\n",
       "      <td>133678</td>\n",
       "      <td>A</td>\n",
       "      <td>0</td>\n",
       "      <td>False</td>\n",
       "    </tr>\n",
       "    <tr>\n",
       "      <th>1002</th>\n",
       "      <td>175944</td>\n",
       "      <td>A</td>\n",
       "      <td>0</td>\n",
       "      <td>False</td>\n",
       "    </tr>\n",
       "  </tbody>\n",
       "</table>\n",
       "</div>"
      ],
      "text/plain": [
       "      student_id grp  rev  purchase\n",
       "1           1627   A  990      True\n",
       "43          3391   A    0     False\n",
       "331       109623   A    0     False\n",
       "614       133678   A    0     False\n",
       "1002      175944   A    0     False"
      ]
     },
     "execution_count": 37,
     "metadata": {},
     "output_type": "execute_result"
    }
   ],
   "source": [
    "control_group.head(5)"
   ]
  },
  {
   "cell_type": "code",
   "execution_count": 38,
   "metadata": {},
   "outputs": [],
   "source": [
    "target_group = customers_info[customers_info.grp == 'B']"
   ]
  },
  {
   "cell_type": "markdown",
   "metadata": {},
   "source": [
    "Дополнительная проверка все ли клиенты были распределены по группам"
   ]
  },
  {
   "cell_type": "code",
   "execution_count": 39,
   "metadata": {},
   "outputs": [
    {
     "data": {
      "text/plain": [
       "True"
      ]
     },
     "execution_count": 39,
     "metadata": {},
     "output_type": "execute_result"
    }
   ],
   "source": [
    "control_group.shape[0]+target_group.shape[0] == customers_info.shape[0]"
   ]
  },
  {
   "cell_type": "markdown",
   "metadata": {},
   "source": [
    "Посмотрим как студенты распределились по группам"
   ]
  },
  {
   "cell_type": "code",
   "execution_count": 40,
   "metadata": {},
   "outputs": [
    {
     "name": "stdout",
     "output_type": "stream",
     "text": [
      "В контрольной группе 1538 активных пользователей.\n",
      "В целевой группе 6803 активных пользователей\n"
     ]
    }
   ],
   "source": [
    "print(f'''В контрольной группе {str(control_group.shape[0])} активных пользователей.\n",
    "В целевой группе {str(target_group.shape[0])} активных пользователей''')"
   ]
  },
  {
   "cell_type": "markdown",
   "metadata": {},
   "source": [
    "Дополнительно удостоверимся, что студенты не находятся одновременно в обоих группах"
   ]
  },
  {
   "cell_type": "code",
   "execution_count": 41,
   "metadata": {
    "scrolled": true
   },
   "outputs": [
    {
     "data": {
      "text/plain": [
       "set()"
      ]
     },
     "execution_count": 41,
     "metadata": {},
     "output_type": "execute_result"
    }
   ],
   "source": [
    "set(target_group.student_id).intersection(set(control_group.student_id))"
   ]
  },
  {
   "cell_type": "markdown",
   "metadata": {},
   "source": [
    "Таким образом, мы закончили этап предобработки данных и можем приступать к формированию и тестированию гипотез"
   ]
  },
  {
   "cell_type": "markdown",
   "metadata": {},
   "source": [
    "                                                  Анализ данных"
   ]
  },
  {
   "cell_type": "markdown",
   "metadata": {},
   "source": [
    "Посмотрим на параметры доходов у клиентов в группах А и B. В данном случае размеры ключевой и контрольной групп существенно различаются, поэтому необходимо смотреть усреднённые метрики. Также имеет смысл отобрать лишь платящих пользователей для сравнения показателя в обоих группах"
   ]
  },
  {
   "cell_type": "code",
   "execution_count": 42,
   "metadata": {},
   "outputs": [
    {
     "data": {
      "text/plain": [
       "<seaborn.axisgrid.JointGrid at 0x7fbb37fbfd68>"
      ]
     },
     "execution_count": 42,
     "metadata": {},
     "output_type": "execute_result"
    },
    {
     "data": {
      "image/png": "[encoded data removed]",
      "text/plain": [
       "<Figure size 432x432 with 3 Axes>"
      ]
     },
     "metadata": {
      "needs_background": "light"
     },
     "output_type": "display_data"
    }
   ],
   "source": [
    "sns.jointplot(x='grp', y='rev', data=customers_info[customers_info.purchase])"
   ]
  },
  {
   "cell_type": "code",
   "execution_count": 43,
   "metadata": {},
   "outputs": [],
   "source": [
    "target_purchasing = target_group[target_group.purchase]\n",
    "control_purchasing = control_group[control_group.purchase]\n",
    "\n",
    "rev_control = control_purchasing.rev.describe()\n",
    "rev_target = target_purchasing.rev.describe()\n",
    "\n",
    "rev_control_median = round(rev_control['50%'], 2)\n",
    "rev_target_median = round(rev_target['50%'], 2)\n",
    "median_diff = round((rev_target_median/rev_control_median - 1) * 100, 2)\n",
    "\n",
    "control_rev_std = round(rev_control['std'], 2)\n",
    "target_rev_std = round(rev_target['std'], 2)\n",
    "std_diff = round((target_rev_std/control_rev_std - 1) * 100, 2)"
   ]
  },
  {
   "cell_type": "code",
   "execution_count": 44,
   "metadata": {},
   "outputs": [
    {
     "name": "stdout",
     "output_type": "stream",
     "text": [
      "Медианный доход от клиенту у целевой группы составляет 1140.0, в то время как у контрольной - 585.0.\n",
      "Разница между группами B и А в показателе медианного дохода на платящего студента составляет 94.87%.\n",
      "Стандартное отклонение доходов клиентов у целевой группы составляет 790.86, в то время как у контрольной - 919.93.\n",
      "Разница между группами B и А в показателе стандартного отклонения составляет -14.03%.\n"
     ]
    }
   ],
   "source": [
    "print(f'''Медианный доход от клиенту у целевой группы составляет {rev_target_median}, в то время как у контрольной - {rev_control_median}.\n",
    "Разница между группами B и А в показателе медианного дохода на платящего студента составляет {median_diff}%.\n",
    "Стандартное отклонение доходов клиентов у целевой группы составляет {target_rev_std}, в то время как у контрольной - {control_rev_std}.\n",
    "Разница между группами B и А в показателе стандартного отклонения составляет {std_diff}%.''')"
   ]
  },
  {
   "cell_type": "markdown",
   "metadata": {},
   "source": [
    "Описательные данные о доходах в группах А и B говорят о наличии сокращения вариативности доходов и увеличении показателя медианных доходов на клиента в целевой группе"
   ]
  },
  {
   "cell_type": "markdown",
   "metadata": {},
   "source": [
    "Теперь мы можем рассмотреть ключевыем метрики нашего эксперимента по группам: конверсия в покупку, средняя выручка на покупающего пользователя и средняя выручка на студента."
   ]
  },
  {
   "cell_type": "code",
   "execution_count": 45,
   "metadata": {},
   "outputs": [
    {
     "name": "stdout",
     "output_type": "stream",
     "text": [
      "Конверсия в покупку у контрольной группы составляет: 0.051\n",
      "Средняя выручка на покупающего пользователя из контрольной группы составляет: 933.59\n",
      "Средняя выручка на пользователя из контрольной группы составляет: 47.35\n",
      "\n",
      "\n",
      "Конверсия в покупку у целевой группы составляет: 0.046 (изменение на 9.0%)\n",
      "Средняя выручка на покупающего пользователя из целевой группы составляет: 1257.88 (изменение на 34.74%)\n",
      "Средняя выручка на пользователя из целевой группы составляет: 58.06 (изменение на 22.62%)\n"
     ]
    }
   ],
   "source": [
    "CR_control = control_purchasing.student_id.nunique()/control_group.student_id.nunique()\n",
    "CR_target = target_purchasing.student_id.nunique()/target_group.student_id.nunique()\n",
    "\n",
    "ARPPU_control = control_group.rev.sum()/control_purchasing.student_id.nunique()\n",
    "ARPPU_target = target_group.rev.sum()/target_purchasing.student_id.nunique()\n",
    "\n",
    "ARPU_control = round(CR_control * ARPPU_control, 2)\n",
    "ARPU_target = round(CR_target * ARPPU_target, 2)\n",
    "\n",
    "print(f'''Конверсия в покупку у контрольной группы составляет: {round(CR_control, 3)}\n",
    "Средняя выручка на покупающего пользователя из контрольной группы составляет: {round(ARPPU_control, 3)}\n",
    "Средняя выручка на пользователя из контрольной группы составляет: {ARPU_control}\n",
    "\n",
    "\n",
    "Конверсия в покупку у целевой группы составляет: {round(CR_target, 3)} (изменение на {abs((round(CR_target/CR_control - 1, 2)))*100}%)\n",
    "Средняя выручка на покупающего пользователя из целевой группы составляет: {round(ARPPU_target, 2)} (изменение на {round((ARPPU_target/ARPPU_control-1)*100, 2)}%)\n",
    "Средняя выручка на пользователя из целевой группы составляет: {ARPU_target} (изменение на {round((ARPU_target/ARPU_control-1)*100, 2)}%)''')"
   ]
  },
  {
   "cell_type": "markdown",
   "metadata": {},
   "source": [
    "Таким образом мы можем отметить увеличение показателей метрик целевой группы по сравнению с ключевой на 9% и более, что потенциально может говорить о положительном эффекте от нововведений."
   ]
  },
  {
   "cell_type": "markdown",
   "metadata": {},
   "source": [
    "Теперь посмотрим сколько пользователей из общего количества делали покупки во время эксперимента"
   ]
  },
  {
   "cell_type": "code",
   "execution_count": 46,
   "metadata": {},
   "outputs": [
    {
     "name": "stdout",
     "output_type": "stream",
     "text": [
      "5.07% пользователей из группы А делали покупки во время эксперимента\n",
      "4.62% пользователей из группы B делали покупки во время эксперимента\n",
      "Разница составляет -0.45%\n"
     ]
    }
   ],
   "source": [
    "purchasing_users_A_share = round(control_group.purchase.sum()/control_group.shape[0]*100, 2)\n",
    "print(f'{purchasing_users_A_share}% пользователей из группы А делали покупки во время эксперимента')\n",
    "purchasing_users_B_share = round(target_group.purchase.sum()/target_group.shape[0]*100, 2)\n",
    "print(f'{purchasing_users_B_share}% пользователей из группы B делали покупки во время эксперимента')\n",
    "print(f'Разница составляет {round(purchasing_users_B_share - purchasing_users_A_share, 2)}%')"
   ]
  },
  {
   "cell_type": "markdown",
   "metadata": {},
   "source": [
    "Проверим количество наблюдений покупающих и не покупающих студентов в группе А и Б в таблице сопряженности"
   ]
  },
  {
   "cell_type": "code",
   "execution_count": 47,
   "metadata": {},
   "outputs": [],
   "source": [
    "df_crosstab_purchase = pd.crosstab(customers_info.grp, customers_info.purchase)"
   ]
  },
  {
   "cell_type": "code",
   "execution_count": 48,
   "metadata": {},
   "outputs": [
    {
     "data": {
      "text/html": [
       "<div>\n",
       "<style scoped>\n",
       "    .dataframe tbody tr th:only-of-type {\n",
       "        vertical-align: middle;\n",
       "    }\n",
       "\n",
       "    .dataframe tbody tr th {\n",
       "        vertical-align: top;\n",
       "    }\n",
       "\n",
       "    .dataframe thead th {\n",
       "        text-align: right;\n",
       "    }\n",
       "</style>\n",
       "<table border=\"1\" class=\"dataframe\">\n",
       "  <thead>\n",
       "    <tr style=\"text-align: right;\">\n",
       "      <th>purchase</th>\n",
       "      <th>False</th>\n",
       "      <th>True</th>\n",
       "    </tr>\n",
       "    <tr>\n",
       "      <th>grp</th>\n",
       "      <th></th>\n",
       "      <th></th>\n",
       "    </tr>\n",
       "  </thead>\n",
       "  <tbody>\n",
       "    <tr>\n",
       "      <th>A</th>\n",
       "      <td>1460</td>\n",
       "      <td>78</td>\n",
       "    </tr>\n",
       "    <tr>\n",
       "      <th>B</th>\n",
       "      <td>6489</td>\n",
       "      <td>314</td>\n",
       "    </tr>\n",
       "  </tbody>\n",
       "</table>\n",
       "</div>"
      ],
      "text/plain": [
       "purchase  False  True \n",
       "grp                   \n",
       "A          1460     78\n",
       "B          6489    314"
      ]
     },
     "execution_count": 48,
     "metadata": {},
     "output_type": "execute_result"
    }
   ],
   "source": [
    "df_crosstab_purchase"
   ]
  },
  {
   "cell_type": "markdown",
   "metadata": {},
   "source": [
    "Поскольку мы имеем дело с категориальными переменными, все наблюдения независимы и каждая ячейка содержит более 5 наблюдений, мы можем применить критерий хи-квадрат для проверки гипотезы о наличии стат. значимой разницы в количестве студентов купивших курс."
   ]
  },
  {
   "cell_type": "markdown",
   "metadata": {},
   "source": [
    "H0 - группы пользователей не имеют различий в доле покупателей курса среди пользователей\n",
    "H1 - изменения механики оплаты негативно повлияли на долю покупателей среди пользователей"
   ]
  },
  {
   "cell_type": "code",
   "execution_count": 49,
   "metadata": {},
   "outputs": [],
   "source": [
    "_, _, stats2 = pg.chi2_independence(customers_info, x='grp', y='purchase')"
   ]
  },
  {
   "cell_type": "code",
   "execution_count": 50,
   "metadata": {},
   "outputs": [
    {
     "data": {
      "text/html": [
       "<div>\n",
       "<style scoped>\n",
       "    .dataframe tbody tr th:only-of-type {\n",
       "        vertical-align: middle;\n",
       "    }\n",
       "\n",
       "    .dataframe tbody tr th {\n",
       "        vertical-align: top;\n",
       "    }\n",
       "\n",
       "    .dataframe thead th {\n",
       "        text-align: right;\n",
       "    }\n",
       "</style>\n",
       "<table border=\"1\" class=\"dataframe\">\n",
       "  <thead>\n",
       "    <tr style=\"text-align: right;\">\n",
       "      <th></th>\n",
       "      <th>test</th>\n",
       "      <th>lambda</th>\n",
       "      <th>chi2</th>\n",
       "      <th>dof</th>\n",
       "      <th>pval</th>\n",
       "      <th>cramer</th>\n",
       "      <th>power</th>\n",
       "    </tr>\n",
       "  </thead>\n",
       "  <tbody>\n",
       "    <tr>\n",
       "      <th>0</th>\n",
       "      <td>pearson</td>\n",
       "      <td>1.000000</td>\n",
       "      <td>0.484808</td>\n",
       "      <td>1.0</td>\n",
       "      <td>0.486252</td>\n",
       "      <td>0.007624</td>\n",
       "      <td>0.107123</td>\n",
       "    </tr>\n",
       "    <tr>\n",
       "      <th>1</th>\n",
       "      <td>cressie-read</td>\n",
       "      <td>0.666667</td>\n",
       "      <td>0.482018</td>\n",
       "      <td>1.0</td>\n",
       "      <td>0.487510</td>\n",
       "      <td>0.007602</td>\n",
       "      <td>0.106787</td>\n",
       "    </tr>\n",
       "    <tr>\n",
       "      <th>2</th>\n",
       "      <td>log-likelihood</td>\n",
       "      <td>0.000000</td>\n",
       "      <td>0.476541</td>\n",
       "      <td>1.0</td>\n",
       "      <td>0.489993</td>\n",
       "      <td>0.007559</td>\n",
       "      <td>0.106127</td>\n",
       "    </tr>\n",
       "    <tr>\n",
       "      <th>3</th>\n",
       "      <td>freeman-tukey</td>\n",
       "      <td>-0.500000</td>\n",
       "      <td>0.472522</td>\n",
       "      <td>1.0</td>\n",
       "      <td>0.491829</td>\n",
       "      <td>0.007527</td>\n",
       "      <td>0.105643</td>\n",
       "    </tr>\n",
       "    <tr>\n",
       "      <th>4</th>\n",
       "      <td>mod-log-likelihood</td>\n",
       "      <td>-1.000000</td>\n",
       "      <td>0.468578</td>\n",
       "      <td>1.0</td>\n",
       "      <td>0.493642</td>\n",
       "      <td>0.007495</td>\n",
       "      <td>0.105168</td>\n",
       "    </tr>\n",
       "    <tr>\n",
       "      <th>5</th>\n",
       "      <td>neyman</td>\n",
       "      <td>-2.000000</td>\n",
       "      <td>0.460909</td>\n",
       "      <td>1.0</td>\n",
       "      <td>0.497200</td>\n",
       "      <td>0.007434</td>\n",
       "      <td>0.104245</td>\n",
       "    </tr>\n",
       "  </tbody>\n",
       "</table>\n",
       "</div>"
      ],
      "text/plain": [
       "                 test    lambda      chi2  dof      pval    cramer     power\n",
       "0             pearson  1.000000  0.484808  1.0  0.486252  0.007624  0.107123\n",
       "1        cressie-read  0.666667  0.482018  1.0  0.487510  0.007602  0.106787\n",
       "2      log-likelihood  0.000000  0.476541  1.0  0.489993  0.007559  0.106127\n",
       "3       freeman-tukey -0.500000  0.472522  1.0  0.491829  0.007527  0.105643\n",
       "4  mod-log-likelihood -1.000000  0.468578  1.0  0.493642  0.007495  0.105168\n",
       "5              neyman -2.000000  0.460909  1.0  0.497200  0.007434  0.104245"
      ]
     },
     "execution_count": 50,
     "metadata": {},
     "output_type": "execute_result"
    }
   ],
   "source": [
    "stats2"
   ]
  },
  {
   "cell_type": "markdown",
   "metadata": {},
   "source": [
    "По результам тестов мы видим уровень значимости p порогового значения альфы 0.05 , что позволяет нам принять H0 и отвергнуть H1. Соответственно, у нас недостаточно оснований чтобы говорить о существовании разницы в долях покупающих студентов в группах А и B."
   ]
  },
  {
   "cell_type": "markdown",
   "metadata": {},
   "source": [
    " "
   ]
  },
  {
   "cell_type": "markdown",
   "metadata": {},
   "source": [
    " "
   ]
  },
  {
   "cell_type": "markdown",
   "metadata": {},
   "source": [
    "Рассмотрим распределение значений доходов среди клиентов из обоих групп"
   ]
  },
  {
   "cell_type": "code",
   "execution_count": 51,
   "metadata": {},
   "outputs": [
    {
     "name": "stderr",
     "output_type": "stream",
     "text": [
      "/opt/tljh/user/lib/python3.7/site-packages/seaborn/distributions.py:2557: FutureWarning: `distplot` is a deprecated function and will be removed in a future version. Please adapt your code to use either `displot` (a figure-level function with similar flexibility) or `histplot` (an axes-level function for histograms).\n",
      "  warnings.warn(msg, FutureWarning)\n",
      "/opt/tljh/user/lib/python3.7/site-packages/seaborn/distributions.py:2557: FutureWarning: `distplot` is a deprecated function and will be removed in a future version. Please adapt your code to use either `displot` (a figure-level function with similar flexibility) or `histplot` (an axes-level function for histograms).\n",
      "  warnings.warn(msg, FutureWarning)\n"
     ]
    },
    {
     "data": {
      "text/plain": [
       "<matplotlib.axes._subplots.AxesSubplot at 0x7fbb335e4240>"
      ]
     },
     "execution_count": 51,
     "metadata": {},
     "output_type": "execute_result"
    },
    {
     "data": {
      "image/png": "[encoded data removed]",
      "text/plain": [
       "<Figure size 432x288 with 1 Axes>"
      ]
     },
     "metadata": {
      "needs_background": "light"
     },
     "output_type": "display_data"
    }
   ],
   "source": [
    "sns.distplot(control_purchasing.rev)\n",
    "sns.distplot(target_purchasing.rev)"
   ]
  },
  {
   "cell_type": "markdown",
   "metadata": {},
   "source": [
    "Судя по графику распределений, группа А имеет уномодальное не нормальную форму распределения значений. В то же время, В группа имеет бимодальную не нормальную форму распределения. Оба распределения также скошены влево."
   ]
  },
  {
   "cell_type": "markdown",
   "metadata": {},
   "source": [
    "Проверим размеры групп чтобы предварительно оценить мощность выборки"
   ]
  },
  {
   "cell_type": "code",
   "execution_count": 52,
   "metadata": {},
   "outputs": [
    {
     "data": {
      "text/plain": [
       "78"
      ]
     },
     "execution_count": 52,
     "metadata": {},
     "output_type": "execute_result"
    }
   ],
   "source": [
    "control_purchasing.rev.size"
   ]
  },
  {
   "cell_type": "code",
   "execution_count": 53,
   "metadata": {},
   "outputs": [
    {
     "data": {
      "text/plain": [
       "314"
      ]
     },
     "execution_count": 53,
     "metadata": {},
     "output_type": "execute_result"
    }
   ],
   "source": [
    "target_purchasing.rev.size"
   ]
  },
  {
   "cell_type": "markdown",
   "metadata": {},
   "source": [
    "Дополнительно применим тест для проверки отсутствия нормальности распределений"
   ]
  },
  {
   "cell_type": "code",
   "execution_count": 54,
   "metadata": {},
   "outputs": [
    {
     "data": {
      "text/plain": [
       "True"
      ]
     },
     "execution_count": 54,
     "metadata": {},
     "output_type": "execute_result"
    }
   ],
   "source": [
    "normaltest(control_purchasing.rev).pvalue <= 0.05"
   ]
  },
  {
   "cell_type": "code",
   "execution_count": 55,
   "metadata": {},
   "outputs": [
    {
     "data": {
      "text/plain": [
       "True"
      ]
     },
     "execution_count": 55,
     "metadata": {},
     "output_type": "execute_result"
    }
   ],
   "source": [
    "normaltest(target_purchasing.rev).pvalue <= 0.05"
   ]
  },
  {
   "cell_type": "markdown",
   "metadata": {},
   "source": [
    "Также, посмотрим на критерий Шапиро-Уиллка, поскольку наши выборки входят в диапазон от 3 до 5000 наблюдейний"
   ]
  },
  {
   "cell_type": "code",
   "execution_count": 56,
   "metadata": {},
   "outputs": [
    {
     "data": {
      "text/plain": [
       "True"
      ]
     },
     "execution_count": 56,
     "metadata": {},
     "output_type": "execute_result"
    }
   ],
   "source": [
    "shapiro(control_purchasing.rev).pvalue <= 0.05"
   ]
  },
  {
   "cell_type": "code",
   "execution_count": 57,
   "metadata": {},
   "outputs": [
    {
     "data": {
      "text/plain": [
       "True"
      ]
     },
     "execution_count": 57,
     "metadata": {},
     "output_type": "execute_result"
    }
   ],
   "source": [
    "shapiro(target_purchasing.rev).pvalue <= 0.05"
   ]
  },
  {
   "cell_type": "markdown",
   "metadata": {},
   "source": [
    "Таким образом, мы можем утверждать об отсутствии нормальности распределения значений у выборки"
   ]
  },
  {
   "cell_type": "markdown",
   "metadata": {},
   "source": [
    "Для проверки равенства дисперсий в обоих группах применим критерий Левена с использованием медиан, поскольку наши распределения ассиметричные."
   ]
  },
  {
   "cell_type": "markdown",
   "metadata": {},
   "source": [
    "H0 - значения доходов из целевой и ключевой групп относятся к выборкам с одинаковыми дисперсиями;\n",
    "H1 - доходы от студентов из целевой группы имеют дисперсию стат. значимо отличную от дисперсии данных значений в ключевой группе."
   ]
  },
  {
   "cell_type": "code",
   "execution_count": 58,
   "metadata": {},
   "outputs": [
    {
     "data": {
      "text/plain": [
       "False"
      ]
     },
     "execution_count": 58,
     "metadata": {},
     "output_type": "execute_result"
    }
   ],
   "source": [
    "levene(control_purchasing.rev, target_purchasing.rev, center='median').pvalue<=0.05"
   ]
  },
  {
   "cell_type": "markdown",
   "metadata": {},
   "source": [
    "Таким образом, мы должны принять нулевую гипотезу, подтверждая что дисперсии у выборок не имеют статистически значимых различий"
   ]
  },
  {
   "cell_type": "markdown",
   "metadata": {},
   "source": [
    " "
   ]
  },
  {
   "cell_type": "markdown",
   "metadata": {},
   "source": [
    "Попробуем применить т-тест для проверки равенства средних значений доходов в группах А и B.\n",
    "\n",
    "К основным требованиям данного теста относятся нормальность распределения средних значений генеральной совокупности и приблизительное равенство дисперсий сравниваемых выборок.\n",
    "\n",
    "Поскольку данные выборки соответствуют критериям т-теста, мы можем использовать данный тест в качестве основного."
   ]
  },
  {
   "cell_type": "markdown",
   "metadata": {},
   "source": [
    "H0 - различий в средних величинах доходов клиентов из разных групп нет.\n",
    "\n",
    "H1 - покупатели из целевой группы имеют статистически значимые различия средних доходов в сравнении с клиентами из ключевой группы."
   ]
  },
  {
   "cell_type": "code",
   "execution_count": 59,
   "metadata": {},
   "outputs": [
    {
     "data": {
      "text/html": [
       "<div>\n",
       "<style scoped>\n",
       "    .dataframe tbody tr th:only-of-type {\n",
       "        vertical-align: middle;\n",
       "    }\n",
       "\n",
       "    .dataframe tbody tr th {\n",
       "        vertical-align: top;\n",
       "    }\n",
       "\n",
       "    .dataframe thead th {\n",
       "        text-align: right;\n",
       "    }\n",
       "</style>\n",
       "<table border=\"1\" class=\"dataframe\">\n",
       "  <thead>\n",
       "    <tr style=\"text-align: right;\">\n",
       "      <th></th>\n",
       "      <th>T</th>\n",
       "      <th>dof</th>\n",
       "      <th>alternative</th>\n",
       "      <th>p-val</th>\n",
       "      <th>CI95%</th>\n",
       "      <th>cohen-d</th>\n",
       "      <th>BF10</th>\n",
       "      <th>power</th>\n",
       "    </tr>\n",
       "  </thead>\n",
       "  <tbody>\n",
       "    <tr>\n",
       "      <th>T-test</th>\n",
       "      <td>-2.86169</td>\n",
       "      <td>106.981667</td>\n",
       "      <td>two-sided</td>\n",
       "      <td>0.00507</td>\n",
       "      <td>[-548.94, -99.64]</td>\n",
       "      <td>0.39646</td>\n",
       "      <td>6.536</td>\n",
       "      <td>0.878211</td>\n",
       "    </tr>\n",
       "  </tbody>\n",
       "</table>\n",
       "</div>"
      ],
      "text/plain": [
       "              T         dof alternative    p-val              CI95%  cohen-d  \\\n",
       "T-test -2.86169  106.981667   two-sided  0.00507  [-548.94, -99.64]  0.39646   \n",
       "\n",
       "         BF10     power  \n",
       "T-test  6.536  0.878211  "
      ]
     },
     "execution_count": 59,
     "metadata": {},
     "output_type": "execute_result"
    }
   ],
   "source": [
    "pg.ttest(control_purchasing.rev, target_purchasing.rev)"
   ]
  },
  {
   "cell_type": "markdown",
   "metadata": {},
   "source": [
    "T-test показывает 152 степеней свободы для данной выборки и уровень p-значимости ниже альфа-значения 0.05. Мы должны принять альтернативную гипотезу в соответствии с данным тестом, подтверждая значимость результата нововведений."
   ]
  },
  {
   "cell_type": "markdown",
   "metadata": {},
   "source": [
    "Также проверим распределение доходов в группах с помощью двухвыборочного критерия Колмагорова-Смирнова, чтобы доказать различие в распределении значений в двух выборках."
   ]
  },
  {
   "cell_type": "markdown",
   "metadata": {},
   "source": [
    "Критерий Колмагорова-Смирнова предполагает количество наблюдений выше 50-ти в каждой выборке и чувствителен к выбросам в данных."
   ]
  },
  {
   "cell_type": "markdown",
   "metadata": {},
   "source": [
    "Н0 - Обе группы клиентов не имеют отличий в распределении доходов.\n",
    "\n",
    "H1 - Распределение доходов тестовой группы статистически значимо отличается от студентов из ключевой группы."
   ]
  },
  {
   "cell_type": "code",
   "execution_count": 60,
   "metadata": {},
   "outputs": [
    {
     "data": {
      "text/plain": [
       "True"
      ]
     },
     "execution_count": 60,
     "metadata": {},
     "output_type": "execute_result"
    }
   ],
   "source": [
    "ks_2samp(control_purchasing.rev, target_purchasing.rev).pvalue<0.05"
   ]
  },
  {
   "cell_type": "markdown",
   "metadata": {},
   "source": [
    "Таким образом, необходимо отвергнуть нулевую гипотезу и принять альтернативную, поскольку значение p в двухвыборочном критерии Колмогорова-Смирнова < порогового значения 0.05"
   ]
  },
  {
   "cell_type": "markdown",
   "metadata": {},
   "source": [
    " "
   ]
  },
  {
   "cell_type": "markdown",
   "metadata": {},
   "source": [
    "В итоге, мы можем говорить о действительности наличия различия в распределении и средних величинах доходов клиентов из целевой и контрольной групп, в соответствии с результатами t-теста и двухвыборочного теста Колмогорова-Смирнова."
   ]
  },
  {
   "cell_type": "markdown",
   "metadata": {},
   "source": [
    "Посмотрим как сдвинулись квантили у значений доходов для ключевой и целевой групп"
   ]
  },
  {
   "cell_type": "code",
   "execution_count": 61,
   "metadata": {},
   "outputs": [
    {
     "name": "stderr",
     "output_type": "stream",
     "text": [
      "/opt/tljh/user/lib/python3.7/site-packages/matplotlib/cbook/__init__.py:1376: VisibleDeprecationWarning: Creating an ndarray from ragged nested sequences (which is a list-or-tuple of lists-or-tuples-or ndarrays with different lengths or shapes) is deprecated. If you meant to do this, you must specify 'dtype=object' when creating the ndarray.\n",
      "  X = np.atleast_1d(X.T if isinstance(X, np.ndarray) else np.asarray(X))\n",
      "/opt/tljh/user/lib/python3.7/site-packages/numpy/core/fromnumeric.py:1970: VisibleDeprecationWarning: Creating an ndarray from ragged nested sequences (which is a list-or-tuple of lists-or-tuples-or ndarrays with different lengths or shapes) is deprecated. If you meant to do this, you must specify 'dtype=object' when creating the ndarray.\n",
      "  result = asarray(a).shape\n"
     ]
    },
    {
     "data": {
      "image/png": "[encoded data removed]",
      "text/plain": [
       "<Figure size 576x360 with 2 Axes>"
      ]
     },
     "metadata": {
      "needs_background": "light"
     },
     "output_type": "display_data"
    }
   ],
   "source": [
    "pg.plot_shift(control_purchasing.rev, target_purchasing.rev)\n",
    "plt.show()"
   ]
  },
  {
   "cell_type": "markdown",
   "metadata": {},
   "source": [
    "Данный анализ квантилей в обоих группах говорит об изменении медианного сдвига в распределении контрольной группы по сравнению с целевой, а также об уменьшении вариативности квантилей."
   ]
  },
  {
   "cell_type": "markdown",
   "metadata": {},
   "source": [
    "Мы также можем оценить как изменились средние значения выручки на студента в тестовой группе по сравнению с контрольной.\n",
    "Сначала, необходимо равномерно выделить сегменты клиентов по обоим группам в зависимости от значения дохода чтобы сделать возможным применение тестов. \n",
    "\n",
    "В нашем случае мы воспользуемся равномерным разделением значений на 4 части через процентили для выделения сегментов студентов.\n",
    "\n",
    "Для предварительной оценки различия квантилей в контрольной и тестовой группе определим межквартильное значения для распределений."
   ]
  },
  {
   "cell_type": "code",
   "execution_count": 191,
   "metadata": {},
   "outputs": [
    {
     "data": {
      "text/plain": [
       "68.32"
      ]
     },
     "execution_count": 191,
     "metadata": {},
     "output_type": "execute_result"
    }
   ],
   "source": [
    "interquart_control = control_purchasing.rev.describe().loc['75%']-control_purchasing.rev.describe().loc['25%']\n",
    "interquart_target = target_purchasing.rev.describe().loc['75%']-target_purchasing.rev.describe().loc['25%']\n",
    "round((interquart_target - interquart_control) / interquart_control * 100, 2)"
   ]
  },
  {
   "cell_type": "markdown",
   "metadata": {},
   "source": [
    "Таким образом мы видим отличие межквартильного значения у контрольной и тестовой группы на 68%, что дает целесообразным сравнение средних значений дохода на студента у групп."
   ]
  },
  {
   "cell_type": "markdown",
   "metadata": {},
   "source": [
    "Необходимо разделить значения доходов на 4 части (\"низкий\", \"ниже среднего\", \"выше среднего\", \"высокий\") чтобы выделить средние значения доходов для каждого сегмента."
   ]
  },
  {
   "cell_type": "code",
   "execution_count": 170,
   "metadata": {
    "scrolled": true
   },
   "outputs": [
    {
     "name": "stderr",
     "output_type": "stream",
     "text": [
      "/opt/tljh/user/lib/python3.7/site-packages/ipykernel_launcher.py:1: SettingWithCopyWarning: \n",
      "A value is trying to be set on a copy of a slice from a DataFrame.\n",
      "Try using .loc[row_indexer,col_indexer] = value instead\n",
      "\n",
      "See the caveats in the documentation: https://pandas.pydata.org/pandas-docs/stable/user_guide/indexing.html#returning-a-view-versus-a-copy\n",
      "  \"\"\"Entry point for launching an IPython kernel.\n"
     ]
    }
   ],
   "source": [
    "target_purchasing['rev_category'] = pd.cut(target_purchasing.rev, bins = 4, labels = ['low', 'below average', 'above average', 'high'])"
   ]
  },
  {
   "cell_type": "markdown",
   "metadata": {},
   "source": [
    "Посмотрим сколько значений попало в каждый из сегментов и посмотрим на разрыв между самым маленьким и самым большим значением в выборке с другими значениями в их сегменте."
   ]
  },
  {
   "cell_type": "code",
   "execution_count": 171,
   "metadata": {},
   "outputs": [
    {
     "data": {
      "text/plain": [
       "low              160\n",
       "below average    144\n",
       "above average      7\n",
       "high               3\n",
       "Name: rev_category, dtype: int64"
      ]
     },
     "execution_count": 171,
     "metadata": {},
     "output_type": "execute_result"
    }
   ],
   "source": [
    "target_purchasing.rev_category.value_counts()"
   ]
  },
  {
   "cell_type": "code",
   "execution_count": 205,
   "metadata": {},
   "outputs": [
    {
     "data": {
      "text/plain": [
       "array([ 199,  290,  398,  489,  580,  590,  597,  690,  796,  840,  870,\n",
       "        880,  990, 1050, 1140, 1160, 3660, 4650])"
      ]
     },
     "execution_count": 205,
     "metadata": {},
     "output_type": "execute_result"
    }
   ],
   "source": [
    "target_purchasing[(target_purchasing.rev_category == 'low') | (target_purchasing.rev_category == 'high')].sort_values('rev').rev.unique()"
   ]
  },
  {
   "cell_type": "markdown",
   "metadata": {},
   "source": [
    "Произведём аналогичное сегментирование студентов в контрольной группе"
   ]
  },
  {
   "cell_type": "code",
   "execution_count": 208,
   "metadata": {},
   "outputs": [
    {
     "name": "stderr",
     "output_type": "stream",
     "text": [
      "/opt/tljh/user/lib/python3.7/site-packages/ipykernel_launcher.py:1: SettingWithCopyWarning: \n",
      "A value is trying to be set on a copy of a slice from a DataFrame.\n",
      "Try using .loc[row_indexer,col_indexer] = value instead\n",
      "\n",
      "See the caveats in the documentation: https://pandas.pydata.org/pandas-docs/stable/user_guide/indexing.html#returning-a-view-versus-a-copy\n",
      "  \"\"\"Entry point for launching an IPython kernel.\n"
     ]
    }
   ],
   "source": [
    "control_purchasing['rev_category'] = pd.cut(control_purchasing.rev, bins = 4, labels = ['low', 'below average', 'above average', 'high'])"
   ]
  },
  {
   "cell_type": "code",
   "execution_count": 209,
   "metadata": {},
   "outputs": [
    {
     "data": {
      "text/plain": [
       "low              58\n",
       "high              9\n",
       "below average     9\n",
       "above average     2\n",
       "Name: rev_category, dtype: int64"
      ]
     },
     "execution_count": 209,
     "metadata": {},
     "output_type": "execute_result"
    }
   ],
   "source": [
    "control_purchasing.rev_category.value_counts()"
   ]
  },
  {
   "cell_type": "code",
   "execution_count": 210,
   "metadata": {},
   "outputs": [
    {
     "data": {
      "text/plain": [
       "array([ 199,  290,  398,  489,  580,  590,  690,  840,  870,  990, 1039,\n",
       "       2820, 2890, 2900, 2910, 3660])"
      ]
     },
     "execution_count": 210,
     "metadata": {},
     "output_type": "execute_result"
    }
   ],
   "source": [
    "control_purchasing[(control_purchasing.rev_category == 'low') | (control_purchasing.rev_category == 'high')].sort_values('rev').rev.unique()"
   ]
  },
  {
   "cell_type": "markdown",
   "metadata": {},
   "source": [
    "Чтобы избежать вероятного смещения значения среднего дохода в группах применим рассчёт медианы к каждому из сегментов клиентов"
   ]
  },
  {
   "cell_type": "code",
   "execution_count": 211,
   "metadata": {},
   "outputs": [],
   "source": [
    "rev_categories_control = control_purchasing.groupby('rev_category', as_index=False).agg({'rev': 'median'})\\\n",
    "                                            .rename(columns={'rev': \"median_rev\"})"
   ]
  },
  {
   "cell_type": "code",
   "execution_count": 212,
   "metadata": {},
   "outputs": [
    {
     "data": {
      "text/html": [
       "<div>\n",
       "<style scoped>\n",
       "    .dataframe tbody tr th:only-of-type {\n",
       "        vertical-align: middle;\n",
       "    }\n",
       "\n",
       "    .dataframe tbody tr th {\n",
       "        vertical-align: top;\n",
       "    }\n",
       "\n",
       "    .dataframe thead th {\n",
       "        text-align: right;\n",
       "    }\n",
       "</style>\n",
       "<table border=\"1\" class=\"dataframe\">\n",
       "  <thead>\n",
       "    <tr style=\"text-align: right;\">\n",
       "      <th></th>\n",
       "      <th>rev_category</th>\n",
       "      <th>median_rev</th>\n",
       "    </tr>\n",
       "  </thead>\n",
       "  <tbody>\n",
       "    <tr>\n",
       "      <th>0</th>\n",
       "      <td>low</td>\n",
       "      <td>290</td>\n",
       "    </tr>\n",
       "    <tr>\n",
       "      <th>1</th>\n",
       "      <td>below average</td>\n",
       "      <td>1180</td>\n",
       "    </tr>\n",
       "    <tr>\n",
       "      <th>2</th>\n",
       "      <td>above average</td>\n",
       "      <td>2100</td>\n",
       "    </tr>\n",
       "    <tr>\n",
       "      <th>3</th>\n",
       "      <td>high</td>\n",
       "      <td>2910</td>\n",
       "    </tr>\n",
       "  </tbody>\n",
       "</table>\n",
       "</div>"
      ],
      "text/plain": [
       "    rev_category  median_rev\n",
       "0            low         290\n",
       "1  below average        1180\n",
       "2  above average        2100\n",
       "3           high        2910"
      ]
     },
     "execution_count": 212,
     "metadata": {},
     "output_type": "execute_result"
    }
   ],
   "source": [
    "rev_categories_control"
   ]
  },
  {
   "cell_type": "code",
   "execution_count": 177,
   "metadata": {},
   "outputs": [],
   "source": [
    "rev_categories_target = target_purchasing.groupby('rev_category', as_index=False).agg({'rev': 'median'})\\\n",
    "                                            .rename(columns={'rev': \"median_rev\"})"
   ]
  },
  {
   "cell_type": "code",
   "execution_count": 178,
   "metadata": {},
   "outputs": [
    {
     "data": {
      "text/html": [
       "<div>\n",
       "<style scoped>\n",
       "    .dataframe tbody tr th:only-of-type {\n",
       "        vertical-align: middle;\n",
       "    }\n",
       "\n",
       "    .dataframe tbody tr th {\n",
       "        vertical-align: top;\n",
       "    }\n",
       "\n",
       "    .dataframe thead th {\n",
       "        text-align: right;\n",
       "    }\n",
       "</style>\n",
       "<table border=\"1\" class=\"dataframe\">\n",
       "  <thead>\n",
       "    <tr style=\"text-align: right;\">\n",
       "      <th></th>\n",
       "      <th>rev_category</th>\n",
       "      <th>median_rev</th>\n",
       "    </tr>\n",
       "  </thead>\n",
       "  <tbody>\n",
       "    <tr>\n",
       "      <th>0</th>\n",
       "      <td>low</td>\n",
       "      <td>580</td>\n",
       "    </tr>\n",
       "    <tr>\n",
       "      <th>1</th>\n",
       "      <td>below average</td>\n",
       "      <td>1900</td>\n",
       "    </tr>\n",
       "    <tr>\n",
       "      <th>2</th>\n",
       "      <td>above average</td>\n",
       "      <td>2910</td>\n",
       "    </tr>\n",
       "    <tr>\n",
       "      <th>3</th>\n",
       "      <td>high</td>\n",
       "      <td>3660</td>\n",
       "    </tr>\n",
       "  </tbody>\n",
       "</table>\n",
       "</div>"
      ],
      "text/plain": [
       "    rev_category  median_rev\n",
       "0            low         580\n",
       "1  below average        1900\n",
       "2  above average        2910\n",
       "3           high        3660"
      ]
     },
     "execution_count": 178,
     "metadata": {},
     "output_type": "execute_result"
    }
   ],
   "source": [
    "rev_categories_target"
   ]
  },
  {
   "cell_type": "code",
   "execution_count": 215,
   "metadata": {},
   "outputs": [
    {
     "data": {
      "text/plain": [
       "count       4.000000\n",
       "mean     2262.500000\n",
       "std      1333.476034\n",
       "min       580.000000\n",
       "25%      1570.000000\n",
       "50%      2405.000000\n",
       "75%      3097.500000\n",
       "max      3660.000000\n",
       "Name: median_rev, dtype: float64"
      ]
     },
     "execution_count": 215,
     "metadata": {},
     "output_type": "execute_result"
    }
   ],
   "source": [
    "rev_categories_target.median_rev.describe()"
   ]
  },
  {
   "cell_type": "code",
   "execution_count": 216,
   "metadata": {},
   "outputs": [
    {
     "data": {
      "text/plain": [
       "count       4.000000\n",
       "mean     1620.000000\n",
       "std      1133.872421\n",
       "min       290.000000\n",
       "25%       957.500000\n",
       "50%      1640.000000\n",
       "75%      2302.500000\n",
       "max      2910.000000\n",
       "Name: median_rev, dtype: float64"
      ]
     },
     "execution_count": 216,
     "metadata": {},
     "output_type": "execute_result"
    }
   ],
   "source": [
    "rev_categories_control.median_rev.describe()"
   ]
  },
  {
   "cell_type": "markdown",
   "metadata": {},
   "source": [
    "Для оценки нормальности распределений маленьких размеров (по 4 значения в выборке), применим тест на нормальность с критериями Шапиро-Уилка на распределение медиан в контрольной и целевой группе."
   ]
  },
  {
   "cell_type": "code",
   "execution_count": 213,
   "metadata": {},
   "outputs": [
    {
     "data": {
      "text/plain": [
       "False"
      ]
     },
     "execution_count": 213,
     "metadata": {},
     "output_type": "execute_result"
    }
   ],
   "source": [
    "shapiro(rev_categories_target['median_rev']).pvalue <= 0.05"
   ]
  },
  {
   "cell_type": "code",
   "execution_count": 214,
   "metadata": {},
   "outputs": [
    {
     "data": {
      "text/plain": [
       "False"
      ]
     },
     "execution_count": 214,
     "metadata": {},
     "output_type": "execute_result"
    }
   ],
   "source": [
    "shapiro(rev_categories_control['median_rev']).pvalue <= 0.05"
   ]
  },
  {
   "cell_type": "markdown",
   "metadata": {},
   "source": [
    "Значения из обеих выборок нормально распределены в соответствии с критерием Шапиро-Улика, а стандартное отклонение примерно равны друг другу. \n",
    "\n",
    "Соответственно, существует возможность применения теста Стьюдента, учитывая выполнения его ключевых требований и маленький размер групп."
   ]
  },
  {
   "cell_type": "code",
   "execution_count": null,
   "metadata": {},
   "outputs": [],
   "source": [
    "Данный тест проводится для проверки следующих гипотез:\n",
    "    \n",
    "Н0 - средние значения медианных доходов у одинаковых сегментов в обоих группах не имеют различий;\n",
    "\n",
    "H1 - среднее значение медианных доходов у одинаковых сегментов целевой и контрольной группы имеют статистически значимые различия."
   ]
  },
  {
   "cell_type": "code",
   "execution_count": 217,
   "metadata": {},
   "outputs": [
    {
     "data": {
      "text/plain": [
       "False"
      ]
     },
     "execution_count": 217,
     "metadata": {},
     "output_type": "execute_result"
    }
   ],
   "source": [
    "pg.ttest(rev_categories_target['median_rev'], rev_categories_control['median_rev'])['p-val'].to_list()[0] <= 0.05"
   ]
  },
  {
   "cell_type": "markdown",
   "metadata": {},
   "source": [
    "Таким образом, необходимо принять Н0 гипотезу и отклонить H1, поскольку тест показал отсутствие достаточных оснований в существовании различий в среднем значении медианы доходов у сегментов студентов между целевой и контрольной группами."
   ]
  },
  {
   "cell_type": "markdown",
   "metadata": {},
   "source": [
    "1.3 Задание"
   ]
  },
  {
   "cell_type": "markdown",
   "metadata": {},
   "source": [
    "1. На какие метрики Вы смотрите в ходе анализа и почему?"
   ]
  },
  {
   "cell_type": "markdown",
   "metadata": {},
   "source": [
    "В ходе анализа необходимо рассматривались и сравнивались по группам:\n",
    "- конверсия в покупку;\n",
    "- средняя выручка на покупающего пользователя;\n",
    "- средняя выручка на пользователя;\n",
    "Также сравнивалось распределение доходов от клиентов.\n",
    "\n",
    "Таким образом, мы сможем определить:\n",
    "- насколько сильно изменились траты клиентов в различных версиях механики оплаты;\n",
    "- увеличило ли нововедение конверсию в покупку."
   ]
  },
  {
   "cell_type": "markdown",
   "metadata": {},
   "source": [
    "2. Имеются ли различия в показателях и с чем они могут быть связаны?"
   ]
  },
  {
   "cell_type": "markdown",
   "metadata": {},
   "source": [
    "По сравнению с ключевой группой, активные пользователи из целевой группы имеют следующие изменения:\n",
    "- Конверсия в покупку увеличилась на 0.005 единиц (9%);\n",
    "- Средняя выручка на клиента изменилась на 324.29 единиц (изменение на 34.74%);\n",
    "- Средняя выручка на пользователя изменилась на 10.71 единиц (изменение на 22.62%);\n",
    "- Медианный доход на пользователя увеличился на 555 единиц (94.87%).\n",
    "\n",
    "Данные показатели могут говорить о влиянии новой механики оплаты, при отсутствии значимого влияния фактора сезонности продаж."
   ]
  },
  {
   "cell_type": "markdown",
   "metadata": {},
   "source": [
    "3. Являются ли эти различия статистически значимыми?"
   ]
  },
  {
   "cell_type": "markdown",
   "metadata": {},
   "source": [
    "Распределения доходов клиентов из разных групп является статистически значимым в соответствии с критериями Колмогорова-Смирнова (p-value < 0.05).\n",
    "\n",
    "Более того, t-test в качестве вспомогательного критерия (p-value=0.004732) подтверждает статистическую значимость разницы средних значений доходов от студентов из целевой и ключевой группы.\n",
    "\n",
    "Также, можно увидеть на графике ниже сдвиг процентилей доходов в разных группах."
   ]
  },
  {
   "cell_type": "code",
   "execution_count": 66,
   "metadata": {},
   "outputs": [
    {
     "name": "stderr",
     "output_type": "stream",
     "text": [
      "/opt/tljh/user/lib/python3.7/site-packages/matplotlib/cbook/__init__.py:1376: VisibleDeprecationWarning: Creating an ndarray from ragged nested sequences (which is a list-or-tuple of lists-or-tuples-or ndarrays with different lengths or shapes) is deprecated. If you meant to do this, you must specify 'dtype=object' when creating the ndarray.\n",
      "  X = np.atleast_1d(X.T if isinstance(X, np.ndarray) else np.asarray(X))\n",
      "/opt/tljh/user/lib/python3.7/site-packages/numpy/core/fromnumeric.py:1970: VisibleDeprecationWarning: Creating an ndarray from ragged nested sequences (which is a list-or-tuple of lists-or-tuples-or ndarrays with different lengths or shapes) is deprecated. If you meant to do this, you must specify 'dtype=object' when creating the ndarray.\n",
      "  result = asarray(a).shape\n"
     ]
    },
    {
     "data": {
      "image/png": "[encoded data removed]",
      "text/plain": [
       "<Figure size 576x360 with 2 Axes>"
      ]
     },
     "metadata": {
      "needs_background": "light"
     },
     "output_type": "display_data"
    }
   ],
   "source": [
    "pg.plot_shift(control_purchasing.rev, target_purchasing.rev)\n",
    "plt.show()"
   ]
  },
  {
   "cell_type": "markdown",
   "metadata": {},
   "source": [
    "3. Стоит ли запускать новую механику на всех пользователей?"
   ]
  },
  {
   "cell_type": "markdown",
   "metadata": {},
   "source": [
    "Данную механику стоит запускать на всех пользователей. Для дополнительной уверенности можно провести А/А тест для наблюдения за результатом новведений."
   ]
  }
 ],
 "metadata": {
  "kernelspec": {
   "display_name": "Python 3",
   "language": "python",
   "name": "python3"
  },
  "language_info": {
   "codemirror_mode": {
    "name": "ipython",
    "version": 3
   },
   "file_extension": ".py",
   "mimetype": "text/x-python",
   "name": "python",
   "nbconvert_exporter": "python",
   "pygments_lexer": "ipython3",
   "version": "3.7.3"
  }
 },
 "nbformat": 4,
 "nbformat_minor": 4
}
